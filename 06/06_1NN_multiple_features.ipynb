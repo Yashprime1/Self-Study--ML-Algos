{
 "metadata": {
  "language_info": {
   "codemirror_mode": {
    "name": "ipython",
    "version": 3
   },
   "file_extension": ".py",
   "mimetype": "text/x-python",
   "name": "python",
   "nbconvert_exporter": "python",
   "pygments_lexer": "ipython3",
   "version": "3.8.5"
  },
  "orig_nbformat": 2,
  "kernelspec": {
   "name": "python3",
   "display_name": "Python 3.8.5 64-bit",
   "metadata": {
    "interpreter": {
     "hash": "31f2aee4e71d21fbe5cf8b01ff0e069b9275f58929596ceb00d14d90e3e16cd6"
    }
   }
  }
 },
 "nbformat": 4,
 "nbformat_minor": 2,
 "cells": [
  {
   "cell_type": "code",
   "execution_count": 12,
   "metadata": {},
   "outputs": [],
   "source": [
    "import matplotlib.pyplot as plt\n",
    "import numpy as np\n",
    "import pandas as pd\n",
    "import seaborn as sns\n",
    "import math"
   ]
  },
  {
   "cell_type": "code",
   "execution_count": 13,
   "metadata": {},
   "outputs": [],
   "source": [
    "df_train=pd.read_csv('./06_data/kc_houseprice_train.csv')\n",
    "df_test=pd.read_csv('./06_data/kc_houseprice_test.csv')"
   ]
  },
  {
   "cell_type": "code",
   "execution_count": 14,
   "metadata": {},
   "outputs": [
    {
     "output_type": "execute_result",
     "data": {
      "text/plain": [
       "           id             date     price  bedrooms  bathrooms  sqft_living  \\\n",
       "0  7129300520  20141013T000000  221900.0         3       1.00         1180   \n",
       "1  6414100192  20141209T000000  538000.0         3       2.25         2570   \n",
       "2  5631500400  20150225T000000  180000.0         2       1.00          770   \n",
       "3  2487200875  20141209T000000  604000.0         4       3.00         1960   \n",
       "4  1954400510  20150218T000000  510000.0         3       2.00         1680   \n",
       "\n",
       "   sqft_lot  floors  waterfront  view  ...  grade  sqft_above  sqft_basement  \\\n",
       "0      5650     1.0           0     0  ...      7        1180              0   \n",
       "1      7242     2.0           0     0  ...      7        2170            400   \n",
       "2     10000     1.0           0     0  ...      6         770              0   \n",
       "3      5000     1.0           0     0  ...      7        1050            910   \n",
       "4      8080     1.0           0     0  ...      8        1680              0   \n",
       "\n",
       "   yr_built  yr_renovated  zipcode      lat     long  sqft_living15  \\\n",
       "0      1955             0    98178  47.5112 -122.257           1340   \n",
       "1      1951          1991    98125  47.7210 -122.319           1690   \n",
       "2      1933             0    98028  47.7379 -122.233           2720   \n",
       "3      1965             0    98136  47.5208 -122.393           1360   \n",
       "4      1987             0    98074  47.6168 -122.045           1800   \n",
       "\n",
       "   sqft_lot15  \n",
       "0        5650  \n",
       "1        7639  \n",
       "2        8062  \n",
       "3        5000  \n",
       "4        7503  \n",
       "\n",
       "[5 rows x 21 columns]"
      ],
      "text/html": "<div>\n<style scoped>\n    .dataframe tbody tr th:only-of-type {\n        vertical-align: middle;\n    }\n\n    .dataframe tbody tr th {\n        vertical-align: top;\n    }\n\n    .dataframe thead th {\n        text-align: right;\n    }\n</style>\n<table border=\"1\" class=\"dataframe\">\n  <thead>\n    <tr style=\"text-align: right;\">\n      <th></th>\n      <th>id</th>\n      <th>date</th>\n      <th>price</th>\n      <th>bedrooms</th>\n      <th>bathrooms</th>\n      <th>sqft_living</th>\n      <th>sqft_lot</th>\n      <th>floors</th>\n      <th>waterfront</th>\n      <th>view</th>\n      <th>...</th>\n      <th>grade</th>\n      <th>sqft_above</th>\n      <th>sqft_basement</th>\n      <th>yr_built</th>\n      <th>yr_renovated</th>\n      <th>zipcode</th>\n      <th>lat</th>\n      <th>long</th>\n      <th>sqft_living15</th>\n      <th>sqft_lot15</th>\n    </tr>\n  </thead>\n  <tbody>\n    <tr>\n      <th>0</th>\n      <td>7129300520</td>\n      <td>20141013T000000</td>\n      <td>221900.0</td>\n      <td>3</td>\n      <td>1.00</td>\n      <td>1180</td>\n      <td>5650</td>\n      <td>1.0</td>\n      <td>0</td>\n      <td>0</td>\n      <td>...</td>\n      <td>7</td>\n      <td>1180</td>\n      <td>0</td>\n      <td>1955</td>\n      <td>0</td>\n      <td>98178</td>\n      <td>47.5112</td>\n      <td>-122.257</td>\n      <td>1340</td>\n      <td>5650</td>\n    </tr>\n    <tr>\n      <th>1</th>\n      <td>6414100192</td>\n      <td>20141209T000000</td>\n      <td>538000.0</td>\n      <td>3</td>\n      <td>2.25</td>\n      <td>2570</td>\n      <td>7242</td>\n      <td>2.0</td>\n      <td>0</td>\n      <td>0</td>\n      <td>...</td>\n      <td>7</td>\n      <td>2170</td>\n      <td>400</td>\n      <td>1951</td>\n      <td>1991</td>\n      <td>98125</td>\n      <td>47.7210</td>\n      <td>-122.319</td>\n      <td>1690</td>\n      <td>7639</td>\n    </tr>\n    <tr>\n      <th>2</th>\n      <td>5631500400</td>\n      <td>20150225T000000</td>\n      <td>180000.0</td>\n      <td>2</td>\n      <td>1.00</td>\n      <td>770</td>\n      <td>10000</td>\n      <td>1.0</td>\n      <td>0</td>\n      <td>0</td>\n      <td>...</td>\n      <td>6</td>\n      <td>770</td>\n      <td>0</td>\n      <td>1933</td>\n      <td>0</td>\n      <td>98028</td>\n      <td>47.7379</td>\n      <td>-122.233</td>\n      <td>2720</td>\n      <td>8062</td>\n    </tr>\n    <tr>\n      <th>3</th>\n      <td>2487200875</td>\n      <td>20141209T000000</td>\n      <td>604000.0</td>\n      <td>4</td>\n      <td>3.00</td>\n      <td>1960</td>\n      <td>5000</td>\n      <td>1.0</td>\n      <td>0</td>\n      <td>0</td>\n      <td>...</td>\n      <td>7</td>\n      <td>1050</td>\n      <td>910</td>\n      <td>1965</td>\n      <td>0</td>\n      <td>98136</td>\n      <td>47.5208</td>\n      <td>-122.393</td>\n      <td>1360</td>\n      <td>5000</td>\n    </tr>\n    <tr>\n      <th>4</th>\n      <td>1954400510</td>\n      <td>20150218T000000</td>\n      <td>510000.0</td>\n      <td>3</td>\n      <td>2.00</td>\n      <td>1680</td>\n      <td>8080</td>\n      <td>1.0</td>\n      <td>0</td>\n      <td>0</td>\n      <td>...</td>\n      <td>8</td>\n      <td>1680</td>\n      <td>0</td>\n      <td>1987</td>\n      <td>0</td>\n      <td>98074</td>\n      <td>47.6168</td>\n      <td>-122.045</td>\n      <td>1800</td>\n      <td>7503</td>\n    </tr>\n  </tbody>\n</table>\n<p>5 rows × 21 columns</p>\n</div>"
     },
     "metadata": {},
     "execution_count": 14
    }
   ],
   "source": [
    "df_train.head()"
   ]
  },
  {
   "cell_type": "code",
   "execution_count": 15,
   "metadata": {},
   "outputs": [
    {
     "output_type": "execute_result",
     "data": {
      "text/plain": [
       "           id             date     price  bedrooms  bathrooms  sqft_living  \\\n",
       "0   114101516  20140528T000000  310000.0         3        1.0         1430   \n",
       "1  9297300055  20150124T000000  650000.0         4        3.0         2950   \n",
       "2  1202000200  20141103T000000  233000.0         3        2.0         1710   \n",
       "3  8562750320  20141110T000000  580500.0         3        2.5         2320   \n",
       "4  7589200193  20141110T000000  535000.0         3        1.0         1090   \n",
       "\n",
       "   sqft_lot  floors  waterfront  view  ...  grade  sqft_above  sqft_basement  \\\n",
       "0     19901     1.5           0     0  ...      7        1430              0   \n",
       "1      5000     2.0           0     3  ...      9        1980            970   \n",
       "2      4697     1.5           0     0  ...      6        1710              0   \n",
       "3      3980     2.0           0     0  ...      8        2320              0   \n",
       "4      3000     1.5           0     0  ...      8        1090              0   \n",
       "\n",
       "   yr_built  yr_renovated  zipcode      lat     long  sqft_living15  \\\n",
       "0      1927             0    98028  47.7558 -122.229           1780   \n",
       "1      1979             0    98126  47.5714 -122.375           2140   \n",
       "2      1941             0    98002  47.3048 -122.218           1030   \n",
       "3      2003             0    98027  47.5391 -122.070           2580   \n",
       "4      1929             0    98117  47.6889 -122.375           1570   \n",
       "\n",
       "   sqft_lot15  \n",
       "0       12697  \n",
       "1        4000  \n",
       "2        4705  \n",
       "3        3980  \n",
       "4        5080  \n",
       "\n",
       "[5 rows x 21 columns]"
      ],
      "text/html": "<div>\n<style scoped>\n    .dataframe tbody tr th:only-of-type {\n        vertical-align: middle;\n    }\n\n    .dataframe tbody tr th {\n        vertical-align: top;\n    }\n\n    .dataframe thead th {\n        text-align: right;\n    }\n</style>\n<table border=\"1\" class=\"dataframe\">\n  <thead>\n    <tr style=\"text-align: right;\">\n      <th></th>\n      <th>id</th>\n      <th>date</th>\n      <th>price</th>\n      <th>bedrooms</th>\n      <th>bathrooms</th>\n      <th>sqft_living</th>\n      <th>sqft_lot</th>\n      <th>floors</th>\n      <th>waterfront</th>\n      <th>view</th>\n      <th>...</th>\n      <th>grade</th>\n      <th>sqft_above</th>\n      <th>sqft_basement</th>\n      <th>yr_built</th>\n      <th>yr_renovated</th>\n      <th>zipcode</th>\n      <th>lat</th>\n      <th>long</th>\n      <th>sqft_living15</th>\n      <th>sqft_lot15</th>\n    </tr>\n  </thead>\n  <tbody>\n    <tr>\n      <th>0</th>\n      <td>114101516</td>\n      <td>20140528T000000</td>\n      <td>310000.0</td>\n      <td>3</td>\n      <td>1.0</td>\n      <td>1430</td>\n      <td>19901</td>\n      <td>1.5</td>\n      <td>0</td>\n      <td>0</td>\n      <td>...</td>\n      <td>7</td>\n      <td>1430</td>\n      <td>0</td>\n      <td>1927</td>\n      <td>0</td>\n      <td>98028</td>\n      <td>47.7558</td>\n      <td>-122.229</td>\n      <td>1780</td>\n      <td>12697</td>\n    </tr>\n    <tr>\n      <th>1</th>\n      <td>9297300055</td>\n      <td>20150124T000000</td>\n      <td>650000.0</td>\n      <td>4</td>\n      <td>3.0</td>\n      <td>2950</td>\n      <td>5000</td>\n      <td>2.0</td>\n      <td>0</td>\n      <td>3</td>\n      <td>...</td>\n      <td>9</td>\n      <td>1980</td>\n      <td>970</td>\n      <td>1979</td>\n      <td>0</td>\n      <td>98126</td>\n      <td>47.5714</td>\n      <td>-122.375</td>\n      <td>2140</td>\n      <td>4000</td>\n    </tr>\n    <tr>\n      <th>2</th>\n      <td>1202000200</td>\n      <td>20141103T000000</td>\n      <td>233000.0</td>\n      <td>3</td>\n      <td>2.0</td>\n      <td>1710</td>\n      <td>4697</td>\n      <td>1.5</td>\n      <td>0</td>\n      <td>0</td>\n      <td>...</td>\n      <td>6</td>\n      <td>1710</td>\n      <td>0</td>\n      <td>1941</td>\n      <td>0</td>\n      <td>98002</td>\n      <td>47.3048</td>\n      <td>-122.218</td>\n      <td>1030</td>\n      <td>4705</td>\n    </tr>\n    <tr>\n      <th>3</th>\n      <td>8562750320</td>\n      <td>20141110T000000</td>\n      <td>580500.0</td>\n      <td>3</td>\n      <td>2.5</td>\n      <td>2320</td>\n      <td>3980</td>\n      <td>2.0</td>\n      <td>0</td>\n      <td>0</td>\n      <td>...</td>\n      <td>8</td>\n      <td>2320</td>\n      <td>0</td>\n      <td>2003</td>\n      <td>0</td>\n      <td>98027</td>\n      <td>47.5391</td>\n      <td>-122.070</td>\n      <td>2580</td>\n      <td>3980</td>\n    </tr>\n    <tr>\n      <th>4</th>\n      <td>7589200193</td>\n      <td>20141110T000000</td>\n      <td>535000.0</td>\n      <td>3</td>\n      <td>1.0</td>\n      <td>1090</td>\n      <td>3000</td>\n      <td>1.5</td>\n      <td>0</td>\n      <td>0</td>\n      <td>...</td>\n      <td>8</td>\n      <td>1090</td>\n      <td>0</td>\n      <td>1929</td>\n      <td>0</td>\n      <td>98117</td>\n      <td>47.6889</td>\n      <td>-122.375</td>\n      <td>1570</td>\n      <td>5080</td>\n    </tr>\n  </tbody>\n</table>\n<p>5 rows × 21 columns</p>\n</div>"
     },
     "metadata": {},
     "execution_count": 15
    }
   ],
   "source": [
    "df_test.head()"
   ]
  },
  {
   "cell_type": "code",
   "execution_count": 16,
   "metadata": {},
   "outputs": [
    {
     "output_type": "stream",
     "name": "stdout",
     "text": [
      "<class 'pandas.core.frame.DataFrame'>\nRangeIndex: 17384 entries, 0 to 17383\nData columns (total 21 columns):\n #   Column         Non-Null Count  Dtype  \n---  ------         --------------  -----  \n 0   id             17384 non-null  int64  \n 1   date           17384 non-null  object \n 2   price          17384 non-null  float64\n 3   bedrooms       17384 non-null  int64  \n 4   bathrooms      17384 non-null  float64\n 5   sqft_living    17384 non-null  int64  \n 6   sqft_lot       17384 non-null  int64  \n 7   floors         17384 non-null  float64\n 8   waterfront     17384 non-null  int64  \n 9   view           17384 non-null  int64  \n 10  condition      17384 non-null  int64  \n 11  grade          17384 non-null  int64  \n 12  sqft_above     17384 non-null  int64  \n 13  sqft_basement  17384 non-null  int64  \n 14  yr_built       17384 non-null  int64  \n 15  yr_renovated   17384 non-null  int64  \n 16  zipcode        17384 non-null  int64  \n 17  lat            17384 non-null  float64\n 18  long           17384 non-null  float64\n 19  sqft_living15  17384 non-null  int64  \n 20  sqft_lot15     17384 non-null  int64  \ndtypes: float64(5), int64(15), object(1)\nmemory usage: 2.8+ MB\n"
     ]
    }
   ],
   "source": [
    "df_train.info()"
   ]
  },
  {
   "cell_type": "code",
   "execution_count": 17,
   "metadata": {},
   "outputs": [
    {
     "output_type": "stream",
     "name": "stdout",
     "text": [
      "<class 'pandas.core.frame.DataFrame'>\nRangeIndex: 4229 entries, 0 to 4228\nData columns (total 21 columns):\n #   Column         Non-Null Count  Dtype  \n---  ------         --------------  -----  \n 0   id             4229 non-null   int64  \n 1   date           4229 non-null   object \n 2   price          4229 non-null   float64\n 3   bedrooms       4229 non-null   int64  \n 4   bathrooms      4229 non-null   float64\n 5   sqft_living    4229 non-null   int64  \n 6   sqft_lot       4229 non-null   int64  \n 7   floors         4229 non-null   float64\n 8   waterfront     4229 non-null   int64  \n 9   view           4229 non-null   int64  \n 10  condition      4229 non-null   int64  \n 11  grade          4229 non-null   int64  \n 12  sqft_above     4229 non-null   int64  \n 13  sqft_basement  4229 non-null   int64  \n 14  yr_built       4229 non-null   int64  \n 15  yr_renovated   4229 non-null   int64  \n 16  zipcode        4229 non-null   int64  \n 17  lat            4229 non-null   float64\n 18  long           4229 non-null   float64\n 19  sqft_living15  4229 non-null   int64  \n 20  sqft_lot15     4229 non-null   int64  \ndtypes: float64(5), int64(15), object(1)\nmemory usage: 693.9+ KB\n"
     ]
    }
   ],
   "source": [
    "df_test.info()"
   ]
  },
  {
   "cell_type": "code",
   "execution_count": 18,
   "metadata": {},
   "outputs": [],
   "source": [
    "X_many_features=df_train.drop(axis=1,columns=['price'])\n",
    "X_train=pd.DataFrame(X_many_features[['sqft_living','bedrooms']])\n",
    "Y_train=pd.DataFrame(df_train['price'])"
   ]
  },
  {
   "cell_type": "code",
   "execution_count": 19,
   "metadata": {},
   "outputs": [],
   "source": [
    "X_many_features=df_test.drop(axis=1,columns=['price'])\n",
    "X_test=pd.DataFrame(X_many_features[['sqft_living','bedrooms']])\n",
    "Y_test=pd.DataFrame(df_test['price'])"
   ]
  },
  {
   "cell_type": "code",
   "execution_count": 20,
   "metadata": {},
   "outputs": [],
   "source": [
    "X_train=[[X_train['sqft_living'][i],X_train['bedrooms'][i]] for i in range(len(X_train))]\n",
    "Y_train=list(Y_train['price'])\n",
    "X_test=[[X_test['sqft_living'][i],X_test['bedrooms'][i]] for i in range(len(X_test))]\n",
    "Y_test=list(Y_test['price'])"
   ]
  },
  {
   "cell_type": "code",
   "execution_count": 21,
   "metadata": {},
   "outputs": [],
   "source": [
    "# 1 Nearest Neighbor regression for multiple features     \n",
    "def NN_1_multi_featured(X_query,X_train, weights):\n",
    "    # Initialization\n",
    "    NN_1_distance=math.inf\n",
    "    NN_1_x = -1\n",
    "    no_of_features = len(X_train[0])\n",
    "    # Finding Nearest Neighbor by Scaled Euclidean Distance ( Giving different weights to different features )\n",
    "    for i in range(len(X_train)):\n",
    "        s = 0\n",
    "        for j in range(no_of_features):\n",
    "            s = s + weights[j] * ((X_query[j] - X_train[i][j]) ** 2)\n",
    "        distance = math.sqrt(s)\n",
    "        if distance < NN_1_distance:\n",
    "            NN_1_distance = distance\n",
    "            NN_1_x = i        \n",
    "    return Y_train[NN_1_x]    "
   ]
  },
  {
   "cell_type": "code",
   "execution_count": 23,
   "metadata": {},
   "outputs": [],
   "source": [
    "Y_predicted=[]\n",
    "for i in range(len(X_test)):\n",
    "    Y_predicted.append(NN_1_multi_featured(X_test[i],X_train,[0.6,0.4]))"
   ]
  }
 ]
}