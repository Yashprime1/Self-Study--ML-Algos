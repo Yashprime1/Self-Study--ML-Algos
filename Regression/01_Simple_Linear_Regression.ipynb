{
  "nbformat": 4,
  "nbformat_minor": 0,
  "metadata": {
    "colab": {
      "name": "Simple_Linear_Regression.ipynb",
      "provenance": [],
      "collapsed_sections": []
    },
    "kernelspec": {
      "name": "python3",
      "display_name": "Python 3"
    }
  },
  "cells": [
    {
      "cell_type": "markdown",
      "metadata": {
        "id": "O8be2UxJa8jF"
      },
      "source": [
        "# 1) Importing all the libraries required"
      ]
    },
    {
      "cell_type": "code",
      "metadata": {
        "id": "qu8S5DA_7Hwx"
      },
      "source": [
        "import matplotlib.pyplot as plt\r\n",
        "import numpy as np\r\n",
        "import pandas as pd\r\n",
        "import seaborn as sns"
      ],
      "execution_count": 32,
      "outputs": []
    },
    {
      "cell_type": "markdown",
      "metadata": {
        "id": "uui7wTNXbRRZ"
      },
      "source": [
        "# 2) Exploring the data"
      ]
    },
    {
      "cell_type": "code",
      "metadata": {
        "id": "MjJKsKKiOX3s"
      },
      "source": [
        "df=pd.read_csv(\"train.csv\")"
      ],
      "execution_count": 33,
      "outputs": []
    },
    {
      "cell_type": "code",
      "metadata": {
        "id": "A8h4HYJoOmDl",
        "colab": {
          "base_uri": "https://localhost:8080/",
          "height": 253
        },
        "outputId": "a51c9c11-04eb-4ee6-86a9-bfc0cc0a50f6"
      },
      "source": [
        "df.head()"
      ],
      "execution_count": 34,
      "outputs": [
        {
          "output_type": "execute_result",
          "data": {
            "text/html": [
              "<div>\n",
              "<style scoped>\n",
              "    .dataframe tbody tr th:only-of-type {\n",
              "        vertical-align: middle;\n",
              "    }\n",
              "\n",
              "    .dataframe tbody tr th {\n",
              "        vertical-align: top;\n",
              "    }\n",
              "\n",
              "    .dataframe thead th {\n",
              "        text-align: right;\n",
              "    }\n",
              "</style>\n",
              "<table border=\"1\" class=\"dataframe\">\n",
              "  <thead>\n",
              "    <tr style=\"text-align: right;\">\n",
              "      <th></th>\n",
              "      <th>Id</th>\n",
              "      <th>MSSubClass</th>\n",
              "      <th>MSZoning</th>\n",
              "      <th>LotFrontage</th>\n",
              "      <th>LotArea</th>\n",
              "      <th>Street</th>\n",
              "      <th>Alley</th>\n",
              "      <th>LotShape</th>\n",
              "      <th>LandContour</th>\n",
              "      <th>Utilities</th>\n",
              "      <th>LotConfig</th>\n",
              "      <th>LandSlope</th>\n",
              "      <th>Neighborhood</th>\n",
              "      <th>Condition1</th>\n",
              "      <th>Condition2</th>\n",
              "      <th>BldgType</th>\n",
              "      <th>HouseStyle</th>\n",
              "      <th>OverallQual</th>\n",
              "      <th>OverallCond</th>\n",
              "      <th>YearBuilt</th>\n",
              "      <th>YearRemodAdd</th>\n",
              "      <th>RoofStyle</th>\n",
              "      <th>RoofMatl</th>\n",
              "      <th>Exterior1st</th>\n",
              "      <th>Exterior2nd</th>\n",
              "      <th>MasVnrType</th>\n",
              "      <th>MasVnrArea</th>\n",
              "      <th>ExterQual</th>\n",
              "      <th>ExterCond</th>\n",
              "      <th>Foundation</th>\n",
              "      <th>BsmtQual</th>\n",
              "      <th>BsmtCond</th>\n",
              "      <th>BsmtExposure</th>\n",
              "      <th>BsmtFinType1</th>\n",
              "      <th>BsmtFinSF1</th>\n",
              "      <th>BsmtFinType2</th>\n",
              "      <th>BsmtFinSF2</th>\n",
              "      <th>BsmtUnfSF</th>\n",
              "      <th>TotalBsmtSF</th>\n",
              "      <th>Heating</th>\n",
              "      <th>...</th>\n",
              "      <th>CentralAir</th>\n",
              "      <th>Electrical</th>\n",
              "      <th>1stFlrSF</th>\n",
              "      <th>2ndFlrSF</th>\n",
              "      <th>LowQualFinSF</th>\n",
              "      <th>GrLivArea</th>\n",
              "      <th>BsmtFullBath</th>\n",
              "      <th>BsmtHalfBath</th>\n",
              "      <th>FullBath</th>\n",
              "      <th>HalfBath</th>\n",
              "      <th>BedroomAbvGr</th>\n",
              "      <th>KitchenAbvGr</th>\n",
              "      <th>KitchenQual</th>\n",
              "      <th>TotRmsAbvGrd</th>\n",
              "      <th>Functional</th>\n",
              "      <th>Fireplaces</th>\n",
              "      <th>FireplaceQu</th>\n",
              "      <th>GarageType</th>\n",
              "      <th>GarageYrBlt</th>\n",
              "      <th>GarageFinish</th>\n",
              "      <th>GarageCars</th>\n",
              "      <th>GarageArea</th>\n",
              "      <th>GarageQual</th>\n",
              "      <th>GarageCond</th>\n",
              "      <th>PavedDrive</th>\n",
              "      <th>WoodDeckSF</th>\n",
              "      <th>OpenPorchSF</th>\n",
              "      <th>EnclosedPorch</th>\n",
              "      <th>3SsnPorch</th>\n",
              "      <th>ScreenPorch</th>\n",
              "      <th>PoolArea</th>\n",
              "      <th>PoolQC</th>\n",
              "      <th>Fence</th>\n",
              "      <th>MiscFeature</th>\n",
              "      <th>MiscVal</th>\n",
              "      <th>MoSold</th>\n",
              "      <th>YrSold</th>\n",
              "      <th>SaleType</th>\n",
              "      <th>SaleCondition</th>\n",
              "      <th>SalePrice</th>\n",
              "    </tr>\n",
              "  </thead>\n",
              "  <tbody>\n",
              "    <tr>\n",
              "      <th>0</th>\n",
              "      <td>1</td>\n",
              "      <td>60</td>\n",
              "      <td>RL</td>\n",
              "      <td>65.0</td>\n",
              "      <td>8450</td>\n",
              "      <td>Pave</td>\n",
              "      <td>NaN</td>\n",
              "      <td>Reg</td>\n",
              "      <td>Lvl</td>\n",
              "      <td>AllPub</td>\n",
              "      <td>Inside</td>\n",
              "      <td>Gtl</td>\n",
              "      <td>CollgCr</td>\n",
              "      <td>Norm</td>\n",
              "      <td>Norm</td>\n",
              "      <td>1Fam</td>\n",
              "      <td>2Story</td>\n",
              "      <td>7</td>\n",
              "      <td>5</td>\n",
              "      <td>2003</td>\n",
              "      <td>2003</td>\n",
              "      <td>Gable</td>\n",
              "      <td>CompShg</td>\n",
              "      <td>VinylSd</td>\n",
              "      <td>VinylSd</td>\n",
              "      <td>BrkFace</td>\n",
              "      <td>196.0</td>\n",
              "      <td>Gd</td>\n",
              "      <td>TA</td>\n",
              "      <td>PConc</td>\n",
              "      <td>Gd</td>\n",
              "      <td>TA</td>\n",
              "      <td>No</td>\n",
              "      <td>GLQ</td>\n",
              "      <td>706</td>\n",
              "      <td>Unf</td>\n",
              "      <td>0</td>\n",
              "      <td>150</td>\n",
              "      <td>856</td>\n",
              "      <td>GasA</td>\n",
              "      <td>...</td>\n",
              "      <td>Y</td>\n",
              "      <td>SBrkr</td>\n",
              "      <td>856</td>\n",
              "      <td>854</td>\n",
              "      <td>0</td>\n",
              "      <td>1710</td>\n",
              "      <td>1</td>\n",
              "      <td>0</td>\n",
              "      <td>2</td>\n",
              "      <td>1</td>\n",
              "      <td>3</td>\n",
              "      <td>1</td>\n",
              "      <td>Gd</td>\n",
              "      <td>8</td>\n",
              "      <td>Typ</td>\n",
              "      <td>0</td>\n",
              "      <td>NaN</td>\n",
              "      <td>Attchd</td>\n",
              "      <td>2003.0</td>\n",
              "      <td>RFn</td>\n",
              "      <td>2</td>\n",
              "      <td>548</td>\n",
              "      <td>TA</td>\n",
              "      <td>TA</td>\n",
              "      <td>Y</td>\n",
              "      <td>0</td>\n",
              "      <td>61</td>\n",
              "      <td>0</td>\n",
              "      <td>0</td>\n",
              "      <td>0</td>\n",
              "      <td>0</td>\n",
              "      <td>NaN</td>\n",
              "      <td>NaN</td>\n",
              "      <td>NaN</td>\n",
              "      <td>0</td>\n",
              "      <td>2</td>\n",
              "      <td>2008</td>\n",
              "      <td>WD</td>\n",
              "      <td>Normal</td>\n",
              "      <td>208500</td>\n",
              "    </tr>\n",
              "    <tr>\n",
              "      <th>1</th>\n",
              "      <td>2</td>\n",
              "      <td>20</td>\n",
              "      <td>RL</td>\n",
              "      <td>80.0</td>\n",
              "      <td>9600</td>\n",
              "      <td>Pave</td>\n",
              "      <td>NaN</td>\n",
              "      <td>Reg</td>\n",
              "      <td>Lvl</td>\n",
              "      <td>AllPub</td>\n",
              "      <td>FR2</td>\n",
              "      <td>Gtl</td>\n",
              "      <td>Veenker</td>\n",
              "      <td>Feedr</td>\n",
              "      <td>Norm</td>\n",
              "      <td>1Fam</td>\n",
              "      <td>1Story</td>\n",
              "      <td>6</td>\n",
              "      <td>8</td>\n",
              "      <td>1976</td>\n",
              "      <td>1976</td>\n",
              "      <td>Gable</td>\n",
              "      <td>CompShg</td>\n",
              "      <td>MetalSd</td>\n",
              "      <td>MetalSd</td>\n",
              "      <td>None</td>\n",
              "      <td>0.0</td>\n",
              "      <td>TA</td>\n",
              "      <td>TA</td>\n",
              "      <td>CBlock</td>\n",
              "      <td>Gd</td>\n",
              "      <td>TA</td>\n",
              "      <td>Gd</td>\n",
              "      <td>ALQ</td>\n",
              "      <td>978</td>\n",
              "      <td>Unf</td>\n",
              "      <td>0</td>\n",
              "      <td>284</td>\n",
              "      <td>1262</td>\n",
              "      <td>GasA</td>\n",
              "      <td>...</td>\n",
              "      <td>Y</td>\n",
              "      <td>SBrkr</td>\n",
              "      <td>1262</td>\n",
              "      <td>0</td>\n",
              "      <td>0</td>\n",
              "      <td>1262</td>\n",
              "      <td>0</td>\n",
              "      <td>1</td>\n",
              "      <td>2</td>\n",
              "      <td>0</td>\n",
              "      <td>3</td>\n",
              "      <td>1</td>\n",
              "      <td>TA</td>\n",
              "      <td>6</td>\n",
              "      <td>Typ</td>\n",
              "      <td>1</td>\n",
              "      <td>TA</td>\n",
              "      <td>Attchd</td>\n",
              "      <td>1976.0</td>\n",
              "      <td>RFn</td>\n",
              "      <td>2</td>\n",
              "      <td>460</td>\n",
              "      <td>TA</td>\n",
              "      <td>TA</td>\n",
              "      <td>Y</td>\n",
              "      <td>298</td>\n",
              "      <td>0</td>\n",
              "      <td>0</td>\n",
              "      <td>0</td>\n",
              "      <td>0</td>\n",
              "      <td>0</td>\n",
              "      <td>NaN</td>\n",
              "      <td>NaN</td>\n",
              "      <td>NaN</td>\n",
              "      <td>0</td>\n",
              "      <td>5</td>\n",
              "      <td>2007</td>\n",
              "      <td>WD</td>\n",
              "      <td>Normal</td>\n",
              "      <td>181500</td>\n",
              "    </tr>\n",
              "    <tr>\n",
              "      <th>2</th>\n",
              "      <td>3</td>\n",
              "      <td>60</td>\n",
              "      <td>RL</td>\n",
              "      <td>68.0</td>\n",
              "      <td>11250</td>\n",
              "      <td>Pave</td>\n",
              "      <td>NaN</td>\n",
              "      <td>IR1</td>\n",
              "      <td>Lvl</td>\n",
              "      <td>AllPub</td>\n",
              "      <td>Inside</td>\n",
              "      <td>Gtl</td>\n",
              "      <td>CollgCr</td>\n",
              "      <td>Norm</td>\n",
              "      <td>Norm</td>\n",
              "      <td>1Fam</td>\n",
              "      <td>2Story</td>\n",
              "      <td>7</td>\n",
              "      <td>5</td>\n",
              "      <td>2001</td>\n",
              "      <td>2002</td>\n",
              "      <td>Gable</td>\n",
              "      <td>CompShg</td>\n",
              "      <td>VinylSd</td>\n",
              "      <td>VinylSd</td>\n",
              "      <td>BrkFace</td>\n",
              "      <td>162.0</td>\n",
              "      <td>Gd</td>\n",
              "      <td>TA</td>\n",
              "      <td>PConc</td>\n",
              "      <td>Gd</td>\n",
              "      <td>TA</td>\n",
              "      <td>Mn</td>\n",
              "      <td>GLQ</td>\n",
              "      <td>486</td>\n",
              "      <td>Unf</td>\n",
              "      <td>0</td>\n",
              "      <td>434</td>\n",
              "      <td>920</td>\n",
              "      <td>GasA</td>\n",
              "      <td>...</td>\n",
              "      <td>Y</td>\n",
              "      <td>SBrkr</td>\n",
              "      <td>920</td>\n",
              "      <td>866</td>\n",
              "      <td>0</td>\n",
              "      <td>1786</td>\n",
              "      <td>1</td>\n",
              "      <td>0</td>\n",
              "      <td>2</td>\n",
              "      <td>1</td>\n",
              "      <td>3</td>\n",
              "      <td>1</td>\n",
              "      <td>Gd</td>\n",
              "      <td>6</td>\n",
              "      <td>Typ</td>\n",
              "      <td>1</td>\n",
              "      <td>TA</td>\n",
              "      <td>Attchd</td>\n",
              "      <td>2001.0</td>\n",
              "      <td>RFn</td>\n",
              "      <td>2</td>\n",
              "      <td>608</td>\n",
              "      <td>TA</td>\n",
              "      <td>TA</td>\n",
              "      <td>Y</td>\n",
              "      <td>0</td>\n",
              "      <td>42</td>\n",
              "      <td>0</td>\n",
              "      <td>0</td>\n",
              "      <td>0</td>\n",
              "      <td>0</td>\n",
              "      <td>NaN</td>\n",
              "      <td>NaN</td>\n",
              "      <td>NaN</td>\n",
              "      <td>0</td>\n",
              "      <td>9</td>\n",
              "      <td>2008</td>\n",
              "      <td>WD</td>\n",
              "      <td>Normal</td>\n",
              "      <td>223500</td>\n",
              "    </tr>\n",
              "    <tr>\n",
              "      <th>3</th>\n",
              "      <td>4</td>\n",
              "      <td>70</td>\n",
              "      <td>RL</td>\n",
              "      <td>60.0</td>\n",
              "      <td>9550</td>\n",
              "      <td>Pave</td>\n",
              "      <td>NaN</td>\n",
              "      <td>IR1</td>\n",
              "      <td>Lvl</td>\n",
              "      <td>AllPub</td>\n",
              "      <td>Corner</td>\n",
              "      <td>Gtl</td>\n",
              "      <td>Crawfor</td>\n",
              "      <td>Norm</td>\n",
              "      <td>Norm</td>\n",
              "      <td>1Fam</td>\n",
              "      <td>2Story</td>\n",
              "      <td>7</td>\n",
              "      <td>5</td>\n",
              "      <td>1915</td>\n",
              "      <td>1970</td>\n",
              "      <td>Gable</td>\n",
              "      <td>CompShg</td>\n",
              "      <td>Wd Sdng</td>\n",
              "      <td>Wd Shng</td>\n",
              "      <td>None</td>\n",
              "      <td>0.0</td>\n",
              "      <td>TA</td>\n",
              "      <td>TA</td>\n",
              "      <td>BrkTil</td>\n",
              "      <td>TA</td>\n",
              "      <td>Gd</td>\n",
              "      <td>No</td>\n",
              "      <td>ALQ</td>\n",
              "      <td>216</td>\n",
              "      <td>Unf</td>\n",
              "      <td>0</td>\n",
              "      <td>540</td>\n",
              "      <td>756</td>\n",
              "      <td>GasA</td>\n",
              "      <td>...</td>\n",
              "      <td>Y</td>\n",
              "      <td>SBrkr</td>\n",
              "      <td>961</td>\n",
              "      <td>756</td>\n",
              "      <td>0</td>\n",
              "      <td>1717</td>\n",
              "      <td>1</td>\n",
              "      <td>0</td>\n",
              "      <td>1</td>\n",
              "      <td>0</td>\n",
              "      <td>3</td>\n",
              "      <td>1</td>\n",
              "      <td>Gd</td>\n",
              "      <td>7</td>\n",
              "      <td>Typ</td>\n",
              "      <td>1</td>\n",
              "      <td>Gd</td>\n",
              "      <td>Detchd</td>\n",
              "      <td>1998.0</td>\n",
              "      <td>Unf</td>\n",
              "      <td>3</td>\n",
              "      <td>642</td>\n",
              "      <td>TA</td>\n",
              "      <td>TA</td>\n",
              "      <td>Y</td>\n",
              "      <td>0</td>\n",
              "      <td>35</td>\n",
              "      <td>272</td>\n",
              "      <td>0</td>\n",
              "      <td>0</td>\n",
              "      <td>0</td>\n",
              "      <td>NaN</td>\n",
              "      <td>NaN</td>\n",
              "      <td>NaN</td>\n",
              "      <td>0</td>\n",
              "      <td>2</td>\n",
              "      <td>2006</td>\n",
              "      <td>WD</td>\n",
              "      <td>Abnorml</td>\n",
              "      <td>140000</td>\n",
              "    </tr>\n",
              "    <tr>\n",
              "      <th>4</th>\n",
              "      <td>5</td>\n",
              "      <td>60</td>\n",
              "      <td>RL</td>\n",
              "      <td>84.0</td>\n",
              "      <td>14260</td>\n",
              "      <td>Pave</td>\n",
              "      <td>NaN</td>\n",
              "      <td>IR1</td>\n",
              "      <td>Lvl</td>\n",
              "      <td>AllPub</td>\n",
              "      <td>FR2</td>\n",
              "      <td>Gtl</td>\n",
              "      <td>NoRidge</td>\n",
              "      <td>Norm</td>\n",
              "      <td>Norm</td>\n",
              "      <td>1Fam</td>\n",
              "      <td>2Story</td>\n",
              "      <td>8</td>\n",
              "      <td>5</td>\n",
              "      <td>2000</td>\n",
              "      <td>2000</td>\n",
              "      <td>Gable</td>\n",
              "      <td>CompShg</td>\n",
              "      <td>VinylSd</td>\n",
              "      <td>VinylSd</td>\n",
              "      <td>BrkFace</td>\n",
              "      <td>350.0</td>\n",
              "      <td>Gd</td>\n",
              "      <td>TA</td>\n",
              "      <td>PConc</td>\n",
              "      <td>Gd</td>\n",
              "      <td>TA</td>\n",
              "      <td>Av</td>\n",
              "      <td>GLQ</td>\n",
              "      <td>655</td>\n",
              "      <td>Unf</td>\n",
              "      <td>0</td>\n",
              "      <td>490</td>\n",
              "      <td>1145</td>\n",
              "      <td>GasA</td>\n",
              "      <td>...</td>\n",
              "      <td>Y</td>\n",
              "      <td>SBrkr</td>\n",
              "      <td>1145</td>\n",
              "      <td>1053</td>\n",
              "      <td>0</td>\n",
              "      <td>2198</td>\n",
              "      <td>1</td>\n",
              "      <td>0</td>\n",
              "      <td>2</td>\n",
              "      <td>1</td>\n",
              "      <td>4</td>\n",
              "      <td>1</td>\n",
              "      <td>Gd</td>\n",
              "      <td>9</td>\n",
              "      <td>Typ</td>\n",
              "      <td>1</td>\n",
              "      <td>TA</td>\n",
              "      <td>Attchd</td>\n",
              "      <td>2000.0</td>\n",
              "      <td>RFn</td>\n",
              "      <td>3</td>\n",
              "      <td>836</td>\n",
              "      <td>TA</td>\n",
              "      <td>TA</td>\n",
              "      <td>Y</td>\n",
              "      <td>192</td>\n",
              "      <td>84</td>\n",
              "      <td>0</td>\n",
              "      <td>0</td>\n",
              "      <td>0</td>\n",
              "      <td>0</td>\n",
              "      <td>NaN</td>\n",
              "      <td>NaN</td>\n",
              "      <td>NaN</td>\n",
              "      <td>0</td>\n",
              "      <td>12</td>\n",
              "      <td>2008</td>\n",
              "      <td>WD</td>\n",
              "      <td>Normal</td>\n",
              "      <td>250000</td>\n",
              "    </tr>\n",
              "  </tbody>\n",
              "</table>\n",
              "<p>5 rows × 81 columns</p>\n",
              "</div>"
            ],
            "text/plain": [
              "   Id  MSSubClass MSZoning  ...  SaleType  SaleCondition SalePrice\n",
              "0   1          60       RL  ...        WD         Normal    208500\n",
              "1   2          20       RL  ...        WD         Normal    181500\n",
              "2   3          60       RL  ...        WD         Normal    223500\n",
              "3   4          70       RL  ...        WD        Abnorml    140000\n",
              "4   5          60       RL  ...        WD         Normal    250000\n",
              "\n",
              "[5 rows x 81 columns]"
            ]
          },
          "metadata": {
            "tags": []
          },
          "execution_count": 34
        }
      ]
    },
    {
      "cell_type": "code",
      "metadata": {
        "id": "Iy5bT37qPlYw",
        "colab": {
          "base_uri": "https://localhost:8080/"
        },
        "outputId": "937879a5-0dc5-444b-ac7a-14f9b56968eb"
      },
      "source": [
        "df.info()"
      ],
      "execution_count": 35,
      "outputs": [
        {
          "output_type": "stream",
          "text": [
            "<class 'pandas.core.frame.DataFrame'>\n",
            "RangeIndex: 1460 entries, 0 to 1459\n",
            "Data columns (total 81 columns):\n",
            " #   Column         Non-Null Count  Dtype  \n",
            "---  ------         --------------  -----  \n",
            " 0   Id             1460 non-null   int64  \n",
            " 1   MSSubClass     1460 non-null   int64  \n",
            " 2   MSZoning       1460 non-null   object \n",
            " 3   LotFrontage    1201 non-null   float64\n",
            " 4   LotArea        1460 non-null   int64  \n",
            " 5   Street         1460 non-null   object \n",
            " 6   Alley          91 non-null     object \n",
            " 7   LotShape       1460 non-null   object \n",
            " 8   LandContour    1460 non-null   object \n",
            " 9   Utilities      1460 non-null   object \n",
            " 10  LotConfig      1460 non-null   object \n",
            " 11  LandSlope      1460 non-null   object \n",
            " 12  Neighborhood   1460 non-null   object \n",
            " 13  Condition1     1460 non-null   object \n",
            " 14  Condition2     1460 non-null   object \n",
            " 15  BldgType       1460 non-null   object \n",
            " 16  HouseStyle     1460 non-null   object \n",
            " 17  OverallQual    1460 non-null   int64  \n",
            " 18  OverallCond    1460 non-null   int64  \n",
            " 19  YearBuilt      1460 non-null   int64  \n",
            " 20  YearRemodAdd   1460 non-null   int64  \n",
            " 21  RoofStyle      1460 non-null   object \n",
            " 22  RoofMatl       1460 non-null   object \n",
            " 23  Exterior1st    1460 non-null   object \n",
            " 24  Exterior2nd    1460 non-null   object \n",
            " 25  MasVnrType     1452 non-null   object \n",
            " 26  MasVnrArea     1452 non-null   float64\n",
            " 27  ExterQual      1460 non-null   object \n",
            " 28  ExterCond      1460 non-null   object \n",
            " 29  Foundation     1460 non-null   object \n",
            " 30  BsmtQual       1423 non-null   object \n",
            " 31  BsmtCond       1423 non-null   object \n",
            " 32  BsmtExposure   1422 non-null   object \n",
            " 33  BsmtFinType1   1423 non-null   object \n",
            " 34  BsmtFinSF1     1460 non-null   int64  \n",
            " 35  BsmtFinType2   1422 non-null   object \n",
            " 36  BsmtFinSF2     1460 non-null   int64  \n",
            " 37  BsmtUnfSF      1460 non-null   int64  \n",
            " 38  TotalBsmtSF    1460 non-null   int64  \n",
            " 39  Heating        1460 non-null   object \n",
            " 40  HeatingQC      1460 non-null   object \n",
            " 41  CentralAir     1460 non-null   object \n",
            " 42  Electrical     1459 non-null   object \n",
            " 43  1stFlrSF       1460 non-null   int64  \n",
            " 44  2ndFlrSF       1460 non-null   int64  \n",
            " 45  LowQualFinSF   1460 non-null   int64  \n",
            " 46  GrLivArea      1460 non-null   int64  \n",
            " 47  BsmtFullBath   1460 non-null   int64  \n",
            " 48  BsmtHalfBath   1460 non-null   int64  \n",
            " 49  FullBath       1460 non-null   int64  \n",
            " 50  HalfBath       1460 non-null   int64  \n",
            " 51  BedroomAbvGr   1460 non-null   int64  \n",
            " 52  KitchenAbvGr   1460 non-null   int64  \n",
            " 53  KitchenQual    1460 non-null   object \n",
            " 54  TotRmsAbvGrd   1460 non-null   int64  \n",
            " 55  Functional     1460 non-null   object \n",
            " 56  Fireplaces     1460 non-null   int64  \n",
            " 57  FireplaceQu    770 non-null    object \n",
            " 58  GarageType     1379 non-null   object \n",
            " 59  GarageYrBlt    1379 non-null   float64\n",
            " 60  GarageFinish   1379 non-null   object \n",
            " 61  GarageCars     1460 non-null   int64  \n",
            " 62  GarageArea     1460 non-null   int64  \n",
            " 63  GarageQual     1379 non-null   object \n",
            " 64  GarageCond     1379 non-null   object \n",
            " 65  PavedDrive     1460 non-null   object \n",
            " 66  WoodDeckSF     1460 non-null   int64  \n",
            " 67  OpenPorchSF    1460 non-null   int64  \n",
            " 68  EnclosedPorch  1460 non-null   int64  \n",
            " 69  3SsnPorch      1460 non-null   int64  \n",
            " 70  ScreenPorch    1460 non-null   int64  \n",
            " 71  PoolArea       1460 non-null   int64  \n",
            " 72  PoolQC         7 non-null      object \n",
            " 73  Fence          281 non-null    object \n",
            " 74  MiscFeature    54 non-null     object \n",
            " 75  MiscVal        1460 non-null   int64  \n",
            " 76  MoSold         1460 non-null   int64  \n",
            " 77  YrSold         1460 non-null   int64  \n",
            " 78  SaleType       1460 non-null   object \n",
            " 79  SaleCondition  1460 non-null   object \n",
            " 80  SalePrice      1460 non-null   int64  \n",
            "dtypes: float64(3), int64(35), object(43)\n",
            "memory usage: 924.0+ KB\n"
          ],
          "name": "stdout"
        }
      ]
    },
    {
      "cell_type": "code",
      "metadata": {
        "id": "ldy_SsBCPwS-"
      },
      "source": [
        "df=df[['LotArea','SalePrice']]"
      ],
      "execution_count": 36,
      "outputs": []
    },
    {
      "cell_type": "code",
      "metadata": {
        "id": "1RQh6BZuUjMP",
        "colab": {
          "base_uri": "https://localhost:8080/",
          "height": 419
        },
        "outputId": "87709084-aae2-4909-89d6-f1a546d8794e"
      },
      "source": [
        "df"
      ],
      "execution_count": 37,
      "outputs": [
        {
          "output_type": "execute_result",
          "data": {
            "text/html": [
              "<div>\n",
              "<style scoped>\n",
              "    .dataframe tbody tr th:only-of-type {\n",
              "        vertical-align: middle;\n",
              "    }\n",
              "\n",
              "    .dataframe tbody tr th {\n",
              "        vertical-align: top;\n",
              "    }\n",
              "\n",
              "    .dataframe thead th {\n",
              "        text-align: right;\n",
              "    }\n",
              "</style>\n",
              "<table border=\"1\" class=\"dataframe\">\n",
              "  <thead>\n",
              "    <tr style=\"text-align: right;\">\n",
              "      <th></th>\n",
              "      <th>LotArea</th>\n",
              "      <th>SalePrice</th>\n",
              "    </tr>\n",
              "  </thead>\n",
              "  <tbody>\n",
              "    <tr>\n",
              "      <th>0</th>\n",
              "      <td>8450</td>\n",
              "      <td>208500</td>\n",
              "    </tr>\n",
              "    <tr>\n",
              "      <th>1</th>\n",
              "      <td>9600</td>\n",
              "      <td>181500</td>\n",
              "    </tr>\n",
              "    <tr>\n",
              "      <th>2</th>\n",
              "      <td>11250</td>\n",
              "      <td>223500</td>\n",
              "    </tr>\n",
              "    <tr>\n",
              "      <th>3</th>\n",
              "      <td>9550</td>\n",
              "      <td>140000</td>\n",
              "    </tr>\n",
              "    <tr>\n",
              "      <th>4</th>\n",
              "      <td>14260</td>\n",
              "      <td>250000</td>\n",
              "    </tr>\n",
              "    <tr>\n",
              "      <th>...</th>\n",
              "      <td>...</td>\n",
              "      <td>...</td>\n",
              "    </tr>\n",
              "    <tr>\n",
              "      <th>1455</th>\n",
              "      <td>7917</td>\n",
              "      <td>175000</td>\n",
              "    </tr>\n",
              "    <tr>\n",
              "      <th>1456</th>\n",
              "      <td>13175</td>\n",
              "      <td>210000</td>\n",
              "    </tr>\n",
              "    <tr>\n",
              "      <th>1457</th>\n",
              "      <td>9042</td>\n",
              "      <td>266500</td>\n",
              "    </tr>\n",
              "    <tr>\n",
              "      <th>1458</th>\n",
              "      <td>9717</td>\n",
              "      <td>142125</td>\n",
              "    </tr>\n",
              "    <tr>\n",
              "      <th>1459</th>\n",
              "      <td>9937</td>\n",
              "      <td>147500</td>\n",
              "    </tr>\n",
              "  </tbody>\n",
              "</table>\n",
              "<p>1460 rows × 2 columns</p>\n",
              "</div>"
            ],
            "text/plain": [
              "      LotArea  SalePrice\n",
              "0        8450     208500\n",
              "1        9600     181500\n",
              "2       11250     223500\n",
              "3        9550     140000\n",
              "4       14260     250000\n",
              "...       ...        ...\n",
              "1455     7917     175000\n",
              "1456    13175     210000\n",
              "1457     9042     266500\n",
              "1458     9717     142125\n",
              "1459     9937     147500\n",
              "\n",
              "[1460 rows x 2 columns]"
            ]
          },
          "metadata": {
            "tags": []
          },
          "execution_count": 37
        }
      ]
    },
    {
      "cell_type": "code",
      "metadata": {
        "id": "bRmOqfFPUj2V",
        "colab": {
          "base_uri": "https://localhost:8080/",
          "height": 282
        },
        "outputId": "10277634-b244-42b7-d15c-781f5cbe9035"
      },
      "source": [
        "plt.scatter(x='LotArea',y='SalePrice',data=df)"
      ],
      "execution_count": 38,
      "outputs": [
        {
          "output_type": "execute_result",
          "data": {
            "text/plain": [
              "<matplotlib.collections.PathCollection at 0x7fb4b5e46160>"
            ]
          },
          "metadata": {
            "tags": []
          },
          "execution_count": 38
        },
        {
          "output_type": "display_data",
          "data": {
            "image/png": "[encoded data removed]",
            "text/plain": [
              "<Figure size 432x288 with 1 Axes>"
            ]
          },
          "metadata": {
            "tags": [],
            "needs_background": "light"
          }
        }
      ]
    },
    {
      "cell_type": "code",
      "metadata": {
        "id": "BYpknWsUZw6L"
      },
      "source": [
        "X_train=df['LotArea']\r\n",
        "Y_train=df['SalePrice']"
      ],
      "execution_count": 39,
      "outputs": []
    },
    {
      "cell_type": "markdown",
      "metadata": {
        "id": "gEn8iSE6bbsc"
      },
      "source": [
        "# 3) Working on simple Linear Regression"
      ]
    },
    {
      "cell_type": "code",
      "metadata": {
        "id": "E7vD3s_1Uw11"
      },
      "source": [
        "def fit_linear_model(x,w0,w1):\r\n",
        "  y=x.apply(lambda x_point : x_point*w1+w0)  \r\n",
        "  return y"
      ],
      "execution_count": 40,
      "outputs": []
    },
    {
      "cell_type": "code",
      "metadata": {
        "id": "boV0sy6JYONM",
        "colab": {
          "base_uri": "https://localhost:8080/",
          "height": 293
        },
        "outputId": "69af4076-caf3-41c9-fd50-717124722f15"
      },
      "source": [
        "Y_predicted=fit_linear_model(X_train,4,5)\r\n",
        "plt.scatter(X_train,Y_train)\r\n",
        "plt.plot(X_train,Y_predicted)"
      ],
      "execution_count": 41,
      "outputs": [
        {
          "output_type": "execute_result",
          "data": {
            "text/plain": [
              "[<matplotlib.lines.Line2D at 0x7fb4b5dfac88>]"
            ]
          },
          "metadata": {
            "tags": []
          },
          "execution_count": 41
        },
        {
          "output_type": "display_data",
          "data": {
            "image/png": "[encoded data removed]",
            "text/plain": [
              "<Figure size 432x288 with 1 Axes>"
            ]
          },
          "metadata": {
            "tags": [],
            "needs_background": "light"
          }
        }
      ]
    },
    {
      "cell_type": "code",
      "metadata": {
        "id": "UYels_XkYSmb"
      },
      "source": [
        "def cost_RSS(Y_train,Y_predicted):\r\n",
        "  error=Y_train-Y_predicted\r\n",
        "  error_squared=error**2\r\n",
        "  RSS=error_squared.sum()\r\n",
        "  return RSS"
      ],
      "execution_count": 42,
      "outputs": []
    },
    {
      "cell_type": "code",
      "metadata": {
        "id": "3ZvTD3sVY6cT",
        "colab": {
          "base_uri": "https://localhost:8080/"
        },
        "outputId": "9de56e0d-b0bc-4523-8350-fc4499c68090"
      },
      "source": [
        "cost_RSS(Y_train,Y_predicted)"
      ],
      "execution_count": 43,
      "outputs": [
        {
          "output_type": "execute_result",
          "data": {
            "text/plain": [
              "33834652163125"
            ]
          },
          "metadata": {
            "tags": []
          },
          "execution_count": 43
        }
      ]
    },
    {
      "cell_type": "code",
      "metadata": {
        "id": "pSvWW562dA0w"
      },
      "source": [
        "# To minimize cost_RSS we find the best w0 and w1 "
      ],
      "execution_count": 44,
      "outputs": []
    },
    {
      "cell_type": "markdown",
      "metadata": {
        "id": "vKZ2uujflp8q"
      },
      "source": [
        "## Approach 1 : Closed form solution"
      ]
    },
    {
      "cell_type": "code",
      "metadata": {
        "id": "0lGaQhC0nHqy",
        "colab": {
          "base_uri": "https://localhost:8080/"
        },
        "outputId": "e782443d-43ac-4ad4-d7bd-12ac2df310fe"
      },
      "source": [
        "len(df.index)"
      ],
      "execution_count": 45,
      "outputs": [
        {
          "output_type": "execute_result",
          "data": {
            "text/plain": [
              "1460"
            ]
          },
          "metadata": {
            "tags": []
          },
          "execution_count": 45
        }
      ]
    },
    {
      "cell_type": "code",
      "metadata": {
        "id": "AoxXU2npl0Ob"
      },
      "source": [
        "def BEST_Parameters_for_linear_model(X,Y):\r\n",
        "  \r\n",
        "  A=Y.sum()\r\n",
        "  B=X.sum()\r\n",
        "  N=len(X.index)\r\n",
        "  C=(X*Y).sum()\r\n",
        "  D=(X*X).sum()\r\n",
        "\r\n",
        "  w1 = (C*N - A*B) / (N*D - B*B)\r\n",
        "  w0 = (A-B*w1) / N \r\n",
        "  return [w0,w1]"
      ],
      "execution_count": 46,
      "outputs": []
    },
    {
      "cell_type": "code",
      "metadata": {
        "id": "QKnhHswJoqkv"
      },
      "source": [
        "[w0_best,w1_best]=BEST_Parameters_for_linear_model(X_train,Y_train)"
      ],
      "execution_count": 47,
      "outputs": []
    },
    {
      "cell_type": "code",
      "metadata": {
        "colab": {
          "base_uri": "https://localhost:8080/"
        },
        "id": "hk7eC2bjoyBv",
        "outputId": "b02943d9-f891-4de1-b546-ad2babe30b3c"
      },
      "source": [
        "w0_best,w1_best"
      ],
      "execution_count": 48,
      "outputs": [
        {
          "output_type": "execute_result",
          "data": {
            "text/plain": [
              "(158836.1518968766, 2.0999719517076745)"
            ]
          },
          "metadata": {
            "tags": []
          },
          "execution_count": 48
        }
      ]
    },
    {
      "cell_type": "code",
      "metadata": {
        "id": "g-Uygly8o5hb"
      },
      "source": [
        "Y_predicted=fit_linear_model(X_train,w0_best,w1_best)"
      ],
      "execution_count": 49,
      "outputs": []
    },
    {
      "cell_type": "code",
      "metadata": {
        "colab": {
          "base_uri": "https://localhost:8080/"
        },
        "id": "YnxBIeigpVne",
        "outputId": "1ee1b01b-78a2-48c8-f027-ce50d860e06e"
      },
      "source": [
        "cost_RSS(Y_train,Y_predicted)"
      ],
      "execution_count": 50,
      "outputs": [
        {
          "output_type": "execute_result",
          "data": {
            "text/plain": [
              "8566918098863.25"
            ]
          },
          "metadata": {
            "tags": []
          },
          "execution_count": 50
        }
      ]
    },
    {
      "cell_type": "code",
      "metadata": {
        "id": "_VMfcMFSph20"
      },
      "source": [
        "# Now by using the built-in library\r\n",
        "from sklearn.linear_model import LinearRegression"
      ],
      "execution_count": 51,
      "outputs": []
    },
    {
      "cell_type": "code",
      "metadata": {
        "id": "aPkTGsdSpwtB"
      },
      "source": [
        "# -1 in reshape helps us to convert the given array into an array with 1 col and unknown number of rows which is compatible with original shape of array\r\n",
        "X_train_np=np.array(X_train).reshape(-1,1)\r\n",
        "Y_train_np=np.array(Y_train).reshape(-1,1)\r\n",
        "model=LinearRegression().fit(X_train_np,Y_train_np)"
      ],
      "execution_count": 52,
      "outputs": []
    },
    {
      "cell_type": "code",
      "metadata": {
        "colab": {
          "base_uri": "https://localhost:8080/"
        },
        "id": "UuDzs7ifp05_",
        "outputId": "6fc2eb2d-d0dd-4675-c27f-8b0d46de71ee"
      },
      "source": [
        "X_train_np,Y_train_np"
      ],
      "execution_count": 53,
      "outputs": [
        {
          "output_type": "execute_result",
          "data": {
            "text/plain": [
              "(array([[ 8450],\n",
              "        [ 9600],\n",
              "        [11250],\n",
              "        ...,\n",
              "        [ 9042],\n",
              "        [ 9717],\n",
              "        [ 9937]]), array([[208500],\n",
              "        [181500],\n",
              "        [223500],\n",
              "        ...,\n",
              "        [266500],\n",
              "        [142125],\n",
              "        [147500]]))"
            ]
          },
          "metadata": {
            "tags": []
          },
          "execution_count": 53
        }
      ]
    },
    {
      "cell_type": "code",
      "metadata": {
        "id": "HHdkBgX5tcfL"
      },
      "source": [
        "Y_predicted=model.predict(X_train_np)"
      ],
      "execution_count": 54,
      "outputs": []
    },
    {
      "cell_type": "code",
      "metadata": {
        "colab": {
          "base_uri": "https://localhost:8080/"
        },
        "id": "DkxdxwcVv4tb",
        "outputId": "fd7d465c-abf6-4ac2-c5d2-dc32352385db"
      },
      "source": [
        "model.intercept_,model.coef_   # same as our own model done using our algorithm"
      ],
      "execution_count": 55,
      "outputs": [
        {
          "output_type": "execute_result",
          "data": {
            "text/plain": [
              "(array([158836.15189688]), array([[2.09997195]]))"
            ]
          },
          "metadata": {
            "tags": []
          },
          "execution_count": 55
        }
      ]
    },
    {
      "cell_type": "code",
      "metadata": {
        "colab": {
          "base_uri": "https://localhost:8080/"
        },
        "id": "fwCN3hQqwzOu",
        "outputId": "0d1f9b09-55bf-4f57-836c-d4edd057927a"
      },
      "source": [
        "cost_RSS(Y_train_np,Y_predicted)"
      ],
      "execution_count": 56,
      "outputs": [
        {
          "output_type": "execute_result",
          "data": {
            "text/plain": [
              "8566918098863.25"
            ]
          },
          "metadata": {
            "tags": []
          },
          "execution_count": 56
        }
      ]
    },
    {
      "cell_type": "markdown",
      "metadata": {
        "id": "8xV9CIgextR7"
      },
      "source": [
        "## Approach 2 : Gradient descent solution"
      ]
    },
    {
      "cell_type": "code",
      "metadata": {
        "id": "ppjwiZ-0q914"
      },
      "source": [
        "from sklearn import preprocessing"
      ],
      "execution_count": 57,
      "outputs": []
    },
    {
      "cell_type": "code",
      "metadata": {
        "id": "K_WJjmrDsTH-"
      },
      "source": [
        "X=np.array([[1,2,3,4]])\r\n",
        "Y=np.array([[3,5,7,9]])\r\n",
        "# Y = 2*X + 1 \r\n"
      ],
      "execution_count": 58,
      "outputs": []
    },
    {
      "cell_type": "code",
      "metadata": {
        "id": "lL95d6EEylKQ"
      },
      "source": [
        "def gradient_descent(learning_step_size,convergence_value,iterations,X,Y):\r\n",
        "  A=Y.sum()\r\n",
        "  B=X.sum()\r\n",
        "  N=len(X)\r\n",
        "  C=(X*Y).sum()\r\n",
        "  D=(X*X).sum()\r\n",
        "  w0=0\r\n",
        "  w1=0\r\n",
        "  i=0    # To control the number of iterations if it crosses a certain limit for the gradient to converge to 0\r\n",
        "  while( np.abs([(-2*(A-B*w1-w0*N))])>convergence_value  and np.abs([(-2*(C-D*w1-w0*B))]) > convergence_value and i<iterations ):\r\n",
        "    w0_old_value=w0\r\n",
        "    w1_old_value=w1\r\n",
        "    w0=w0-learning_step_size*(-2*(A-B*w1_old_value-w0_old_value*N))\r\n",
        "    w1=w1-learning_step_size*(-2*(C-D*w1_old_value-w0_old_value*B))\r\n",
        "    print(\"w0 :\" + str(w0) + \" w1 :\" + str(w1) + \" gradient : \" + str(([(-2*(A-B*w1-w0*N))])) + \" , \" + str(([(-2*(C-D*w1-w0*B))])))\r\n",
        "    i=i+1\r\n",
        "  return [w0,w1]"
      ],
      "execution_count": 59,
      "outputs": []
    },
    {
      "cell_type": "code",
      "metadata": {
        "id": "LGXa0yoyeNHf",
        "colab": {
          "base_uri": "https://localhost:8080/"
        },
        "outputId": "9995bcdc-d4f3-4ec0-ff39-30fb6a0e2340"
      },
      "source": [
        "\r\n",
        "w0_best,w1_best=gradient_descent(0.0005,0.01,200,X,Y)  # tolerance value of 0.01 , step-size = 0.0005 passed and also max_iterations of 200 passed "
      ],
      "execution_count": 60,
      "outputs": [
        {
          "output_type": "stream",
          "text": [
            "w0 :0.024 w1 :0.07 gradient : [-46.552] , [-135.32000000000002]\n",
            "w0 :0.047276 w1 :0.13766 gradient : [-45.152248] , [-130.79488]\n",
            "w0 :0.069852124 w1 :0.20305744 gradient : [-43.799146952] , [-126.41951112]\n",
            "w0 :0.09175169747600001 w1 :0.26626719556 gradient : [-42.491152693848] , [-122.18893431688001]\n",
            "w0 :0.11299727382292402 w1 :0.32736166271844 gradient : [-41.226772197985355] , [-118.09835476043511]\n",
            "w0 :0.1336106599219167 w1 :0.38641084009865756 gradient : [-40.00456187818302] , [-114.14313639564222]\n",
            "w0 :0.1536129408610082 w1 :0.44348240829647867 gradient : [-38.823125952348406] , [-110.31879668499113]\n",
            "w0 :0.17302450383718243 w1 :0.4986418066389742 gradient : [-37.68111485954615] , [-106.6210015249179]\n",
            "w0 :0.19186506126695552 w1 :0.5519523074014332 gradient : [-36.57722372943743] , [-103.0455603305749]\n",
            "w0 :0.21015367313167424 w1 :0.6034750875667206 gradient : [-35.510190902402236] , [-99.58842128336329]\n",
            "w0 :0.22790876858287537 w1 :0.6532692982084023 gradient : [-34.478796498666206] , [-96.24566673583834]\n",
            "w0 :0.24514816683220847 w1 :0.7013921315763214 gradient : [-33.48186103480916] , [-93.01350876877656]\n",
            "w0 :0.2618890973496131 w1 :0.7478988859607096 gradient : [-32.51824408608658] , [-89.88828489536517]\n",
            "w0 :0.2781482193926564 w1 :0.7928430284083923 gradient : [-31.58684299304684] , [-86.86645390764333]\n",
            "w0 :0.2939416408891798 w1 :0.836276255362214 gradient : [-30.68659161097736] , [-83.94459186048358]\n",
            "w0 :0.30928493669466844 w1 :0.8782485512924557 gradient : [-29.81645910076155] , [-81.11938818855928]\n",
            "w0 :0.32419316624504924 w1 :0.9188082453867353 gradient : [-28.975448759775194] , [-78.3876419518949]\n",
            "w0 :0.33868089062493684 w1 :0.9580020663626828 gradient : [-28.16259689149647] , [-75.74625820574029]\n",
            "w0 :0.3527621890706851 w1 :0.9958751954655529 gradient : [-27.376971712547572] , [-73.19224449065311]\n",
            "w0 :0.3664506749269589 w1 :1.0324713177108795 gradient : [-26.617672295928493] , [-70.72270743880804]\n",
            "w0 :0.3797595110749231 w1 :1.0678326714302835 gradient : [-25.883827549244486] , [-68.33484949268453]\n",
            "w0 :0.39270142484954534 w1 :1.1020000961766256 gradient : [-25.174595226768396] , [-66.02596573241155]\n",
            "w0 :0.4052887224629295 w1 :1.1350130790428314 gradient : [-24.489160974217512] , [-63.793440808171525]\n",
            "w0 :0.41753330295003827 w1 :1.1669097994469173 gradient : [-23.826737405161577] , [-61.63474597418419]\n",
            "w0 :0.42944667165261907 w1 :1.1977271724340095 gradient : [-23.186563208014572] , [-59.54743622090705]\n",
            "w0 :0.44103995325662637 w1 :1.227500890544463 gradient : [-22.567902282597487] , [-57.529147502199685]\n",
            "w0 :0.45232390439792514 w1 :1.2562654642955629 gradient : [-21.970042905292892] , [-55.577594054307724]\n",
            "w0 :0.4633089258505716 w1 :1.2840542613227166 gradient : [-21.392296921844526] , [-53.69056580362557]\n",
            "w0 :0.47400507431149386 w1 :1.3108995442245295 gradient : [-20.833998966886423] , [-51.865925860298354]\n",
            "w0 :0.48442207379493707 w1 :1.3368325071546787 gradient : [-20.294505709316553] , [-50.101608094820534]\n",
            "w0 :0.49456932664959535 w1 :1.361883311202089 gradient : [-19.773195122659033] , [-48.39561479488275]\n",
            "w0 :0.5044559242109249 w1 :1.3860811185995303 gradient : [-19.269465779587545] , [-46.74601439980969]\n",
            "w0 :0.5140906571007187 w1 :1.409454125799435 gradient : [-18.782736169809862] , [-45.150939310019524]\n",
            "w0 :0.5234820251856236 w1 :1.4320295954544449 gradient : [-18.312444040539855] , [-43.60858376902084]\n",
            "w0 :0.5326382472058935 w1 :1.4538338873389554 gradient : [-17.858045758809105] , [-42.11720181554481]\n",
            "w0 :0.541567270085298 w1 :1.4748924882467278 gradient : [-17.419015694894846] , [-40.67510530349037]\n",
            "w0 :0.5502767779327454 w1 :1.495230040898473 gradient : [-16.99484562616505] , [-39.280661987436716]\n",
            "w0 :0.558774200745828 w1 :1.5148703718921912 gradient : [-16.58504416066452] , [-37.93229367155196]\n",
            "w0 :0.5670667228261602 w1 :1.5338365187279672 gradient : [-16.189136179788335] , [-36.628474419798756]\n",
            "w0 :0.5751612909160544 w1 :1.5521507559378667 gradient : [-15.80666229941056] , [-35.367728825406914]\n",
            "w0 :0.5830646220657597 w1 :1.5698346203505702 gradient : [-15.437178348857076] , [-34.14863033765059]\n",
            "w0 :0.5907832112401883 w1 :1.5869089355193955 gradient : [-15.080254867131714] , [-32.969799644032506]\n",
            "w0 :0.5983233386737541 w1 :1.6033938353414117 gradient : [-14.735476615824261] , [-31.829903106040213]\n",
            "w0 :0.6056910769816662 w1 :1.6193087868944318 gradient : [-14.402442108148032] , [-30.72765124670077]\n",
            "w0 :0.6128922980357403 w1 :1.6346726125177822 gradient : [-14.080763153572878] , [-29.661797288218263]\n",
            "w0 :0.6199326796125267 w1 :1.6495035111618912 gradient : [-13.770064417537125] , [-28.631135738036]\n",
            "w0 :0.6268177118212953 w1 :1.6638190790309093 gradient : [-13.469982995739224] , [-27.63450102171953]\n",
            "w0 :0.6335527033191649 w1 :1.6776363295417691 gradient : [-13.180168002526287] , [-26.670766161110556]\n",
            "w0 :0.6401427873204281 w1 :1.6909717126223245 gradient : [-12.900280172912652] , [-25.738841496251972]\n",
            "w0 :0.6465929274068843 w1 :1.7038411333704504 gradient : [-12.629991477777226] , [-24.837673449635286]\n",
            "w0 :0.652907923145773 w1 :1.716259970095268 gradient : [-12.368984751803088] , [-23.96624333136846]\n",
            "w0 :0.6590924155216745 w1 :1.7282430917609524 gradient : [-12.116953333737603] , [-23.123566183909364]\n",
            "w0 :0.6651508921885433 w1 :1.7398048748529071 gradient : [-11.873600718564772] , [-22.308689665054708]\n",
            "w0 :0.6710876925478256 w1 :1.7509592196854344 gradient : [-11.638640221195658] , [-21.52069296791742]\n",
            "w0 :0.6769070126584235 w1 :1.7617195661693932 gradient : [-11.411794651295292] , [-20.75868577666794]\n",
            "w0 :0.6826129099840711 w1 :1.772098909057727 gradient : [-11.192795998877319] , [-20.021807256854963]\n",
            "w0 :0.6882093079835098 w1 :1.7821098126861545 gradient : [-10.981385130309889] , [-19.309225079160534]\n",
            "w0 :0.6937000005486648 w1 :1.7917644252257348 gradient : [-10.777311494387977] , [-18.620134475482622]\n",
            "w0 :0.6990886562958587 w1 :1.801074492463476 gradient : [-10.580332838138762] , [-17.95375732627427]\n",
            "w0 :0.7043788227149281 w1 :1.8100513711266133 gradient : [-10.39021493203788] , [-17.309341278104633]\n",
            "w0 :0.709573930180947 w1 :1.8187060417656655 gradient : [-10.206731304324792] , [-16.686158890441128]\n",
            "w0 :0.7146772958331095 w1 :1.8270491212108861 gradient : [-10.029662984116058] , [-16.083506810684646]\n",
            "w0 :0.7196921273251675 w1 :1.8350908746162284 gradient : [-9.8587982530251] , [-15.50070497652294]\n",
            "w0 :0.7246215264516801 w1 :1.8428412271044898 gradient : [-9.693932405006843] , [-14.937095844697009]\n",
            "w0 :0.7294684926541836 w1 :1.8503097750268382 gradient : [-9.53486751415487] , [-14.392043645306028]\n",
            "w0 :0.734235926411261 w1 :1.8575057968494912 gradient : [-9.381412210187651] , [-13.864933660805304]\n",
            "w0 :0.7389266325163548 w1 :1.864438263679894 gradient : [-9.233381461369408] , [-13.355171528879264]\n",
            "w0 :0.7435433232470395 w1 :1.8711158494443336 gradient : [-9.09059636461925] , [-12.86218256839919]\n",
            "w0 :0.7480886214293492 w1 :1.8775469407285332 gradient : [-8.952883942570638] , [-12.385411127701019]\n",
            "w0 :0.7525650634006344 w1 :1.8837396462923837 gradient : [-8.820076947351055] , [-11.92431995444429]\n",
            "w0 :0.7569751018743099 w1 :1.8897018062696058 gradient : [-8.692013670859263] , [-11.478389586337453]\n",
            "w0 :0.7613211087097396 w1 :1.8954410010627745 gradient : [-8.568537761325034] , [-11.047117762038742]\n",
            "w0 :0.765605377590402 w1 :1.9009645599437939 gradient : [-8.449498045943319] , [-10.63001885156433]\n",
            "w0 :0.7698301266133737 w1 :1.906279569369576 gradient : [-8.334748359381729] , [-10.22662330555797]\n",
            "w0 :0.7739975007930645 w1 :1.911392881022355 gradient : [-8.224147377966768] , [-9.836477122797406]\n",
            "w0 :0.7781095744820479 w1 :1.9163111195837537 gradient : [-8.11755845936083] , [-9.45914133533382]\n",
            "w0 :0.7821683537117283 w1 :1.9210406902514205 gradient : [-8.014849487548133] , [-9.094191510680199]\n",
            "w0 :0.7861757784555023 w1 :1.9255877860067607 gradient : [-7.9158927229537825] , [-8.741217270484315]\n",
            "w0 :0.7901337248169792 w1 :1.929958394642003 gradient : [-7.820564657525984] , [-8.399821825140243]\n",
            "w0 :0.7940440071457422 w1 :1.934158305554573 gradient : [-7.728745874617056] , [-8.06962152381077]\n",
            "w0 :0.7979083800830508 w1 :1.9381931163164785 gradient : [-7.6403209135043255] , [-7.75024541935028]\n",
            "w0 :0.8017285405398029 w1 :1.9420682390261537 gradient : [-7.555178138397322] , [-7.441334847634717]\n",
            "w0 :0.8055061296090016 w1 :1.945788906449971 gradient : [-7.473209611782576] , [-7.142543020821705]\n",
            "w0 :0.8092427344148929 w1 :1.9493601779603817 gradient : [-7.394310971962579] , [-6.853534634079242]\n",
            "w0 :0.8129398899008742 w1 :1.9527869452774214 gradient : [-7.318381314649828] , [-6.573985485337232]\n",
            "w0 :0.8165990805581991 w1 :1.95607393802009 gradient : [-7.2453230784818015] , [-6.303582107630618]\n",
            "w0 :0.8202217420974399 w1 :1.9592257290739052 gradient : [-7.175041934327015] , [-6.042021413616894]\n",
            "w0 :0.8238092630646034 w1 :1.9622467397807137 gradient : [-7.107446678256515] , [-5.789010351865105]\n",
            "w0 :0.8273629864037317 w1 :1.9651412449566463 gradient : [-7.042449128059607] , [-5.544265574526591]\n",
            "w0 :0.8308842109677615 w1 :1.9679133777439097 gradient : [-6.97996402318628] , [-5.307513116010181]\n",
            "w0 :0.8343741929793547 w1 :1.9705671343019149 gradient : [-6.919908928002995] , [-5.078488082298019]\n",
            "w0 :0.8378341474433562 w1 :1.9731063783430638 gradient : [-6.862204138252011] , [-4.856934350549054]\n",
            "w0 :0.8412652495124822 w1 :1.9755348455183384 gradient : [-6.806772590608268] , [-4.642604278650062]\n",
            "w0 :0.8446686358077863 w1 :1.9778561476576635 gradient : [-6.753539775231159] , [-4.435258424384472]\n",
            "w0 :0.8480454056954019 w1 :1.9800737768698558 gradient : [-6.702433651212083] , [-4.234665273900614]\n",
            "w0 :0.8513966225210079 w1 :1.982191109506806 gradient : [-6.653384564821864] , [-4.040600979171479]\n",
            "w0 :0.8547233148034188 w1 :1.984211409996392 gradient : [-6.606325170465325] , [-3.852849104148106]\n",
            "w0 :0.8580264773886515 w1 :1.986137834548466 gradient : [-6.561190354253378] , [-3.6712003793190107]\n",
            "w0 :0.8613070725657781 w1 :1.9879734347381255 gradient : [-6.517917160105933] , [-3.4954524643969123]\n",
            "w0 :0.8645660311458311 w1 :1.989721160970324 gradient : [-6.476444718301855] , [-3.3254097188639307]\n",
            "w0 :0.867804253504982 w1 :1.991383865829756 gradient : [-6.436714176394915] , [-3.1608829801150016]\n",
            "w0 :0.8710226105931795 w1 :1.9929643073198136 gradient : [-6.398668632417369] , [-3.0016893489475933]\n",
            "w0 :0.8742219449093882 w1 :1.9944651519942873 gradient : [-6.362253070295477] , [-2.8476519821549964]\n",
            "w0 :0.877403071444536 w1 :1.9958889779853648 gradient : [-6.32741429740363] , [-2.6985998919873992]\n",
            "w0 :0.8805667785932378 w1 :1.9972382779313584 gradient : [-6.294100884186356] , [-2.5543677522537394]\n",
            "w0 :0.883713829035331 w1 :1.9985154618074854 gradient : [-6.262263105779628] , [-2.414795710844256]\n",
            "w0 :0.8868449605882208 w1 :1.9997228596629075 gradient : [-6.2318528855654085] , [-2.279729208461127]\n",
            "w0 :0.8899608870310035 w1 :2.000862724267138 gradient : [-6.202823740595232] , [-2.149018803351648]\n",
            "w0 :0.8930622989013012 w1 :2.001937233668814 gradient : [-6.175130728821119] , [-2.022520001845134]\n",
            "w0 :0.8961498642657117 w1 :2.0029484936697366 gradient : [-6.148730398073846] , [-1.9000930945015746]\n",
            "w0 :0.8992242294647487 w1 :2.0038985402169875 gradient : [-6.123580736730753] , [-1.7816029976857735]\n",
            "w0 :0.9022860198331141 w1 :2.0047893417158305 gradient : [-6.0996411260171595] , [-1.6669191003878936]\n",
            "w0 :0.9053358403961227 w1 :2.0056228012660244 gradient : [-6.076872293887265] , [-1.5559151161160827]\n",
            "w0 :0.9083742765430664 w1 :2.0064007588240824 gradient : [-6.0552362704322205] , [-1.4484689396937256]\n",
            "w0 :0.9114018946782825 w1 :2.0071249932939295 gradient : [-6.0346963447648445] , [-1.3444625087985784]\n",
            "w0 :0.9144192428506649 w1 :2.007797224548329 gradient : [-6.015217023332094] , [-1.2437816700869746]\n",
            "w0 :0.9174268513623309 w1 :2.008419115383372 gradient : [-5.996763989607896] , [-1.1463160497510536]\n",
            "w0 :0.9204252333571349 w1 :2.0089922734082477 gradient : [-5.9793040651207745] , [-1.0519589283624349]\n",
            "w0 :0.9234148853896953 w1 :2.009518252872429 gradient : [-5.962805171772029] , [-0.9606071198603452]\n",
            "w0 :0.9263962879755813 w1 :2.0099985564323593 gradient : [-5.947236295401653] , [-0.8721608545468129]\n",
            "w0 :0.9293699061232821 w1 :2.0104346368596326 gradient : [-5.932567450560787] , [-0.7865236659563948]\n",
            "w0 :0.9323361898485625 w1 :2.010827898692611 gradient : [-5.918769646450657] , [-0.7036022814720937]\n",
            "w0 :0.9352955746717878 w1 :2.011179699833347 gradient : [-5.905814853989482] , [-0.6233065165634244]\n",
            "w0 :0.9382484820987825 w1 :2.0114913530916287 gradient : [-5.893675973969862] , [-0.5455491725266235]\n",
            "w0 :0.9411953200857675 w1 :2.011764127677892 gradient : [-5.882326806270621] , [-0.470245937611125]\n",
            "w0 :0.9441364834889028 w1 :2.0119992506466975 gradient : [-5.871742020088245] , [-0.3973152914200888]\n",
            "w0 :0.9470723544989469 w1 :2.0121979082924075 gradient : [-5.861897125153957] , [-0.32667841247661045]\n",
            "w0 :0.9500033030615239 w1 :2.012361247498646 gradient : [-5.852768443904035] , [-0.258259088850771]\n",
            "w0 :0.9529296872834759 w1 :2.012490377043071 gradient : [-5.844333084571622] , [-0.19198363174621846]\n",
            "w0 :0.9558518538257618 w1 :2.012586368858944 gradient : [-5.836568915169596] , [-0.12778079194812264]\n",
            "w0 :0.9587701382833466 w1 :2.0126502592549183 gradient : [-5.82945453833494] , [-0.06558167903797596]\n",
            "w0 :0.961684865552514 w1 :2.012683050094437 gradient : [-5.822969267006227] , [-0.005319683283502741]\n"
          ],
          "name": "stdout"
        }
      ]
    },
    {
      "cell_type": "code",
      "metadata": {
        "colab": {
          "base_uri": "https://localhost:8080/"
        },
        "id": "0TK3c9EYgqKI",
        "outputId": "3a6fc067-6a28-440d-9963-46b3313ffc16"
      },
      "source": [
        "w0_best,w1_best"
      ],
      "execution_count": 61,
      "outputs": [
        {
          "output_type": "execute_result",
          "data": {
            "text/plain": [
              "(0.961684865552514, 2.012683050094437)"
            ]
          },
          "metadata": {
            "tags": []
          },
          "execution_count": 61
        }
      ]
    },
    {
      "cell_type": "markdown",
      "metadata": {
        "id": "ZaVNnNOFC1Gc"
      },
      "source": [
        "# 4) Exploring Influence of high leverage points"
      ]
    },
    {
      "cell_type": "markdown",
      "metadata": {
        "id": "aHRJZbtYMQL-"
      },
      "source": [
        "## a) Example of a high Leverage Point"
      ]
    },
    {
      "cell_type": "code",
      "metadata": {
        "id": "oA9ew5zqDBxQ"
      },
      "source": [
        "df=pd.read_csv(\"Philadelphia_Crime_Rate_noNA.csv\")"
      ],
      "execution_count": 62,
      "outputs": []
    },
    {
      "cell_type": "code",
      "metadata": {
        "colab": {
          "base_uri": "https://localhost:8080/",
          "height": 419
        },
        "id": "osoe4_jzDCCv",
        "outputId": "28765c33-8a0a-4b64-f7f7-deac482a2af0"
      },
      "source": [
        "df"
      ],
      "execution_count": 63,
      "outputs": [
        {
          "output_type": "execute_result",
          "data": {
            "text/html": [
              "<div>\n",
              "<style scoped>\n",
              "    .dataframe tbody tr th:only-of-type {\n",
              "        vertical-align: middle;\n",
              "    }\n",
              "\n",
              "    .dataframe tbody tr th {\n",
              "        vertical-align: top;\n",
              "    }\n",
              "\n",
              "    .dataframe thead th {\n",
              "        text-align: right;\n",
              "    }\n",
              "</style>\n",
              "<table border=\"1\" class=\"dataframe\">\n",
              "  <thead>\n",
              "    <tr style=\"text-align: right;\">\n",
              "      <th></th>\n",
              "      <th>HousePrice</th>\n",
              "      <th>HsPrc ($10,000)</th>\n",
              "      <th>CrimeRate</th>\n",
              "      <th>MilesPhila</th>\n",
              "      <th>PopChg</th>\n",
              "      <th>Name</th>\n",
              "      <th>County</th>\n",
              "    </tr>\n",
              "  </thead>\n",
              "  <tbody>\n",
              "    <tr>\n",
              "      <th>0</th>\n",
              "      <td>140463</td>\n",
              "      <td>14.0463</td>\n",
              "      <td>29.7</td>\n",
              "      <td>10.0</td>\n",
              "      <td>-1.0</td>\n",
              "      <td>Abington</td>\n",
              "      <td>Montgome</td>\n",
              "    </tr>\n",
              "    <tr>\n",
              "      <th>1</th>\n",
              "      <td>113033</td>\n",
              "      <td>11.3033</td>\n",
              "      <td>24.1</td>\n",
              "      <td>18.0</td>\n",
              "      <td>4.0</td>\n",
              "      <td>Ambler</td>\n",
              "      <td>Montgome</td>\n",
              "    </tr>\n",
              "    <tr>\n",
              "      <th>2</th>\n",
              "      <td>124186</td>\n",
              "      <td>12.4186</td>\n",
              "      <td>19.5</td>\n",
              "      <td>25.0</td>\n",
              "      <td>8.0</td>\n",
              "      <td>Aston</td>\n",
              "      <td>Delaware</td>\n",
              "    </tr>\n",
              "    <tr>\n",
              "      <th>3</th>\n",
              "      <td>110490</td>\n",
              "      <td>11.0490</td>\n",
              "      <td>49.4</td>\n",
              "      <td>25.0</td>\n",
              "      <td>2.7</td>\n",
              "      <td>Bensalem</td>\n",
              "      <td>Bucks</td>\n",
              "    </tr>\n",
              "    <tr>\n",
              "      <th>4</th>\n",
              "      <td>79124</td>\n",
              "      <td>7.9124</td>\n",
              "      <td>54.1</td>\n",
              "      <td>19.0</td>\n",
              "      <td>3.9</td>\n",
              "      <td>Bristol B.</td>\n",
              "      <td>Bucks</td>\n",
              "    </tr>\n",
              "    <tr>\n",
              "      <th>...</th>\n",
              "      <td>...</td>\n",
              "      <td>...</td>\n",
              "      <td>...</td>\n",
              "      <td>...</td>\n",
              "      <td>...</td>\n",
              "      <td>...</td>\n",
              "      <td>...</td>\n",
              "    </tr>\n",
              "    <tr>\n",
              "      <th>94</th>\n",
              "      <td>174232</td>\n",
              "      <td>17.4232</td>\n",
              "      <td>13.8</td>\n",
              "      <td>25.0</td>\n",
              "      <td>4.7</td>\n",
              "      <td>Westtown</td>\n",
              "      <td>Chester</td>\n",
              "    </tr>\n",
              "    <tr>\n",
              "      <th>95</th>\n",
              "      <td>196515</td>\n",
              "      <td>19.6515</td>\n",
              "      <td>29.9</td>\n",
              "      <td>16.0</td>\n",
              "      <td>1.8</td>\n",
              "      <td>Whitemarsh</td>\n",
              "      <td>Montgome</td>\n",
              "    </tr>\n",
              "    <tr>\n",
              "      <th>96</th>\n",
              "      <td>232714</td>\n",
              "      <td>23.2714</td>\n",
              "      <td>9.9</td>\n",
              "      <td>21.0</td>\n",
              "      <td>0.2</td>\n",
              "      <td>Willistown</td>\n",
              "      <td>Chester</td>\n",
              "    </tr>\n",
              "    <tr>\n",
              "      <th>97</th>\n",
              "      <td>245920</td>\n",
              "      <td>24.5920</td>\n",
              "      <td>22.6</td>\n",
              "      <td>10.0</td>\n",
              "      <td>0.3</td>\n",
              "      <td>Wynnewood</td>\n",
              "      <td>Montgome</td>\n",
              "    </tr>\n",
              "    <tr>\n",
              "      <th>98</th>\n",
              "      <td>130953</td>\n",
              "      <td>13.0953</td>\n",
              "      <td>13.0</td>\n",
              "      <td>24.0</td>\n",
              "      <td>5.2</td>\n",
              "      <td>Yardley</td>\n",
              "      <td>Bucks</td>\n",
              "    </tr>\n",
              "  </tbody>\n",
              "</table>\n",
              "<p>99 rows × 7 columns</p>\n",
              "</div>"
            ],
            "text/plain": [
              "    HousePrice  HsPrc ($10,000)  CrimeRate  ...  PopChg        Name    County\n",
              "0       140463          14.0463       29.7  ...    -1.0    Abington  Montgome\n",
              "1       113033          11.3033       24.1  ...     4.0      Ambler  Montgome\n",
              "2       124186          12.4186       19.5  ...     8.0       Aston  Delaware\n",
              "3       110490          11.0490       49.4  ...     2.7    Bensalem     Bucks\n",
              "4        79124           7.9124       54.1  ...     3.9  Bristol B.     Bucks\n",
              "..         ...              ...        ...  ...     ...         ...       ...\n",
              "94      174232          17.4232       13.8  ...     4.7    Westtown   Chester\n",
              "95      196515          19.6515       29.9  ...     1.8  Whitemarsh  Montgome\n",
              "96      232714          23.2714        9.9  ...     0.2  Willistown   Chester\n",
              "97      245920          24.5920       22.6  ...     0.3   Wynnewood  Montgome\n",
              "98      130953          13.0953       13.0  ...     5.2     Yardley     Bucks\n",
              "\n",
              "[99 rows x 7 columns]"
            ]
          },
          "metadata": {
            "tags": []
          },
          "execution_count": 63
        }
      ]
    },
    {
      "cell_type": "code",
      "metadata": {
        "colab": {
          "base_uri": "https://localhost:8080/",
          "height": 282
        },
        "id": "hu2JLtc7DCTE",
        "outputId": "95948918-510c-4c01-f70f-6a7868b133bd"
      },
      "source": [
        "plt.scatter(df['CrimeRate'],df['HousePrice'])"
      ],
      "execution_count": 64,
      "outputs": [
        {
          "output_type": "execute_result",
          "data": {
            "text/plain": [
              "<matplotlib.collections.PathCollection at 0x7fb4b5d7a4e0>"
            ]
          },
          "metadata": {
            "tags": []
          },
          "execution_count": 64
        },
        {
          "output_type": "display_data",
          "data": {
            "image/png": "[encoded data removed]",
            "text/plain": [
              "<Figure size 432x288 with 1 Axes>"
            ]
          },
          "metadata": {
            "tags": [],
            "needs_background": "light"
          }
        }
      ]
    },
    {
      "cell_type": "code",
      "metadata": {
        "id": "I0kufvxeDCb6"
      },
      "source": [
        "X=df['CrimeRate']\r\n",
        "Y=df['HousePrice']\r\n",
        "X=np.array(X).reshape(-1,1)\r\n",
        "Y=np.array(Y).reshape(-1,1)\r\n",
        "model=LinearRegression().fit(X,Y)"
      ],
      "execution_count": 65,
      "outputs": []
    },
    {
      "cell_type": "code",
      "metadata": {
        "id": "OaMU0SJJGTmh"
      },
      "source": [
        "Y_pred=model.predict(X)"
      ],
      "execution_count": 66,
      "outputs": []
    },
    {
      "cell_type": "code",
      "metadata": {
        "colab": {
          "base_uri": "https://localhost:8080/",
          "height": 303
        },
        "id": "rYR3xEAyF5hE",
        "outputId": "c93a836e-eced-49ef-aeb6-03b654723e00"
      },
      "source": [
        "plt.plot(X,Y,'.',X,Y_pred,'-')"
      ],
      "execution_count": 67,
      "outputs": [
        {
          "output_type": "execute_result",
          "data": {
            "text/plain": [
              "[<matplotlib.lines.Line2D at 0x7fb4b5d5c5c0>,\n",
              " <matplotlib.lines.Line2D at 0x7fb4b5d5c6a0>]"
            ]
          },
          "metadata": {
            "tags": []
          },
          "execution_count": 67
        },
        {
          "output_type": "display_data",
          "data": {
            "image/png": "[encoded data removed]",
            "text/plain": [
              "<Figure size 432x288 with 1 Axes>"
            ]
          },
          "metadata": {
            "tags": [],
            "needs_background": "light"
          }
        }
      ]
    },
    {
      "cell_type": "code",
      "metadata": {
        "colab": {
          "base_uri": "https://localhost:8080/",
          "height": 80
        },
        "id": "AOkjpHf8G_9S",
        "outputId": "fad66f05-dd85-4e29-8364-fa431d80f025"
      },
      "source": [
        "df[df['CrimeRate']>350]  # Centre City is one place where crime rates are extremely high but house prices are not that low , this point does follow the trend of the rest of the data very well . A question is how much including Centre CIty will affect our fit on other datapoints ,  let's remove it and then observe it "
      ],
      "execution_count": 68,
      "outputs": [
        {
          "output_type": "execute_result",
          "data": {
            "text/html": [
              "<div>\n",
              "<style scoped>\n",
              "    .dataframe tbody tr th:only-of-type {\n",
              "        vertical-align: middle;\n",
              "    }\n",
              "\n",
              "    .dataframe tbody tr th {\n",
              "        vertical-align: top;\n",
              "    }\n",
              "\n",
              "    .dataframe thead th {\n",
              "        text-align: right;\n",
              "    }\n",
              "</style>\n",
              "<table border=\"1\" class=\"dataframe\">\n",
              "  <thead>\n",
              "    <tr style=\"text-align: right;\">\n",
              "      <th></th>\n",
              "      <th>HousePrice</th>\n",
              "      <th>HsPrc ($10,000)</th>\n",
              "      <th>CrimeRate</th>\n",
              "      <th>MilesPhila</th>\n",
              "      <th>PopChg</th>\n",
              "      <th>Name</th>\n",
              "      <th>County</th>\n",
              "    </tr>\n",
              "  </thead>\n",
              "  <tbody>\n",
              "    <tr>\n",
              "      <th>62</th>\n",
              "      <td>96200</td>\n",
              "      <td>9.62</td>\n",
              "      <td>366.1</td>\n",
              "      <td>0.0</td>\n",
              "      <td>4.8</td>\n",
              "      <td>Phila,CC</td>\n",
              "      <td>Phila</td>\n",
              "    </tr>\n",
              "  </tbody>\n",
              "</table>\n",
              "</div>"
            ],
            "text/plain": [
              "    HousePrice  HsPrc ($10,000)  CrimeRate  MilesPhila  PopChg      Name County\n",
              "62       96200             9.62      366.1         0.0     4.8  Phila,CC  Phila"
            ]
          },
          "metadata": {
            "tags": []
          },
          "execution_count": 68
        }
      ]
    },
    {
      "cell_type": "code",
      "metadata": {
        "colab": {
          "base_uri": "https://localhost:8080/"
        },
        "id": "RwF9g5E6H8Y0",
        "outputId": "c2180122-3dbb-47e0-b459-e0cd9632de0d"
      },
      "source": [
        "len(df)"
      ],
      "execution_count": 69,
      "outputs": [
        {
          "output_type": "execute_result",
          "data": {
            "text/plain": [
              "99"
            ]
          },
          "metadata": {
            "tags": []
          },
          "execution_count": 69
        }
      ]
    },
    {
      "cell_type": "code",
      "metadata": {
        "id": "iMMEMMTuH_8J"
      },
      "source": [
        "df2=df[df[\"Name\"]!='Phila,CC']"
      ],
      "execution_count": 70,
      "outputs": []
    },
    {
      "cell_type": "code",
      "metadata": {
        "id": "onJoHqDyINAh"
      },
      "source": [
        "X2=df2['CrimeRate']\r\n",
        "Y2=df2['HousePrice']\r\n",
        "X2=np.array(X2).reshape(-1,1)\r\n",
        "Y2=np.array(Y2).reshape(-1,1)\r\n",
        "model_withNoCC=LinearRegression().fit(X2,Y2)"
      ],
      "execution_count": 71,
      "outputs": []
    },
    {
      "cell_type": "code",
      "metadata": {
        "id": "OCMGFbepIewH"
      },
      "source": [
        "Y2_pred=model_withNoCC.predict(X2)"
      ],
      "execution_count": 72,
      "outputs": []
    },
    {
      "cell_type": "code",
      "metadata": {
        "colab": {
          "base_uri": "https://localhost:8080/",
          "height": 299
        },
        "id": "tqA0ySVlIfKX",
        "outputId": "0d456f28-1aa3-4b78-8ee1-da041bf421cc"
      },
      "source": [
        "plt.plot(X2,Y2,'.',\r\n",
        "         X2,model_withNoCC.predict(X2),'-')"
      ],
      "execution_count": 73,
      "outputs": [
        {
          "output_type": "execute_result",
          "data": {
            "text/plain": [
              "[<matplotlib.lines.Line2D at 0x7fb4b5cc2e48>,\n",
              " <matplotlib.lines.Line2D at 0x7fb4b5cc2f28>]"
            ]
          },
          "metadata": {
            "tags": []
          },
          "execution_count": 73
        },
        {
          "output_type": "display_data",
          "data": {
            "image/png": "[encoded data removed]",
            "text/plain": [
              "<Figure size 432x288 with 1 Axes>"
            ]
          },
          "metadata": {
            "tags": [],
            "needs_background": "light"
          }
        }
      ]
    },
    {
      "cell_type": "code",
      "metadata": {
        "colab": {
          "base_uri": "https://localhost:8080/"
        },
        "id": "W9YvvX-QJEFl",
        "outputId": "3fe0393d-dbac-449a-a9da-23e615c7d969"
      },
      "source": [
        "print(model.intercept_)\r\n",
        "print(model.coef_)\r\n",
        "print(model_withNoCC.intercept_)\r\n",
        "print(model_withNoCC.coef_)\r\n"
      ],
      "execution_count": 74,
      "outputs": [
        {
          "output_type": "stream",
          "text": [
            "[176629.40810695]\n",
            "[[-576.90812768]]\n",
            "[225233.551839]\n",
            "[[-2288.68942995]]\n"
          ],
          "name": "stdout"
        }
      ]
    },
    {
      "cell_type": "markdown",
      "metadata": {
        "id": "ewegnmC-J2eO"
      },
      "source": [
        "Note : Above we see that for no CC the decrease in house value per unit increase in CrimeRate is 2288 whereas in original dataset , we said it's 576 so that's a significant drop"
      ]
    },
    {
      "cell_type": "markdown",
      "metadata": {
        "id": "D7yAqZTzLntI"
      },
      "source": [
        "## b) High leverage points: \r\n",
        "Center City is said to be a \"high leverage\" point because it is at an extreme x value where there are not other observations.  As a result, recalling the closed-form solution for simple regression, this point has the *potential* to dramatically change the least squares line since the center of x mass is heavily influenced by this one point and the least squares line will try to fit close to that outlying (in x) point.  If a high leverage point follows the trend of the other data, this might not have much effect.  On the other hand, if this point somehow differs, it can be strongly influential in the resulting fit.\r\n"
      ]
    },
    {
      "cell_type": "markdown",
      "metadata": {
        "id": "EvnABbDvMKK5"
      },
      "source": [
        "## c) Influential observations:  \r\n",
        "An influential observation is one where the removal of the point significantly changes the fit.  As discussed above, high leverage points are good candidates for being influential observations, but need not be.  Other observations that are *not* leverage points can also be influential observations (e.g., strongly outlying in y even if x is a typical value)."
      ]
    },
    {
      "cell_type": "code",
      "metadata": {
        "colab": {
          "base_uri": "https://localhost:8080/",
          "height": 316
        },
        "id": "oiVI92nPL0g9",
        "outputId": "fea2f434-e1b6-49ba-b25a-792d4dcc313f"
      },
      "source": [
        "plt.plot(X2,Y2,'.',\r\n",
        "         X2,model.predict(X2),'-',\r\n",
        "         X2,model_withNoCC.predict(X2),'-')"
      ],
      "execution_count": 75,
      "outputs": [
        {
          "output_type": "execute_result",
          "data": {
            "text/plain": [
              "[<matplotlib.lines.Line2D at 0x7fb4b5c2f1d0>,\n",
              " <matplotlib.lines.Line2D at 0x7fb4b5c2f2b0>,\n",
              " <matplotlib.lines.Line2D at 0x7fb4b5c2f438>]"
            ]
          },
          "metadata": {
            "tags": []
          },
          "execution_count": 75
        },
        {
          "output_type": "display_data",
          "data": {
            "image/png": "[encoded data removed]",
            "text/plain": [
              "<Figure size 432x288 with 1 Axes>"
            ]
          },
          "metadata": {
            "tags": [],
            "needs_background": "light"
          }
        }
      ]
    },
    {
      "cell_type": "markdown",
      "metadata": {
        "id": "qT5LLr7VOHj1"
      },
      "source": [
        "## d) Example of high-value outlier neighborhoods "
      ]
    },
    {
      "cell_type": "code",
      "metadata": {
        "colab": {
          "base_uri": "https://localhost:8080/"
        },
        "id": "KzLEvP1xUmqX",
        "outputId": "5648d9a2-2b36-47d7-a4ee-4ebd5d634893"
      },
      "source": [
        "len(df)"
      ],
      "execution_count": 76,
      "outputs": [
        {
          "output_type": "execute_result",
          "data": {
            "text/plain": [
              "99"
            ]
          },
          "metadata": {
            "tags": []
          },
          "execution_count": 76
        }
      ]
    },
    {
      "cell_type": "code",
      "metadata": {
        "colab": {
          "base_uri": "https://localhost:8080/",
          "height": 419
        },
        "id": "XnOdYOgjU_2r",
        "outputId": "89469f48-aba0-4e77-f246-44a8dd4ac9bd"
      },
      "source": [
        "df"
      ],
      "execution_count": 77,
      "outputs": [
        {
          "output_type": "execute_result",
          "data": {
            "text/html": [
              "<div>\n",
              "<style scoped>\n",
              "    .dataframe tbody tr th:only-of-type {\n",
              "        vertical-align: middle;\n",
              "    }\n",
              "\n",
              "    .dataframe tbody tr th {\n",
              "        vertical-align: top;\n",
              "    }\n",
              "\n",
              "    .dataframe thead th {\n",
              "        text-align: right;\n",
              "    }\n",
              "</style>\n",
              "<table border=\"1\" class=\"dataframe\">\n",
              "  <thead>\n",
              "    <tr style=\"text-align: right;\">\n",
              "      <th></th>\n",
              "      <th>HousePrice</th>\n",
              "      <th>HsPrc ($10,000)</th>\n",
              "      <th>CrimeRate</th>\n",
              "      <th>MilesPhila</th>\n",
              "      <th>PopChg</th>\n",
              "      <th>Name</th>\n",
              "      <th>County</th>\n",
              "    </tr>\n",
              "  </thead>\n",
              "  <tbody>\n",
              "    <tr>\n",
              "      <th>0</th>\n",
              "      <td>140463</td>\n",
              "      <td>14.0463</td>\n",
              "      <td>29.7</td>\n",
              "      <td>10.0</td>\n",
              "      <td>-1.0</td>\n",
              "      <td>Abington</td>\n",
              "      <td>Montgome</td>\n",
              "    </tr>\n",
              "    <tr>\n",
              "      <th>1</th>\n",
              "      <td>113033</td>\n",
              "      <td>11.3033</td>\n",
              "      <td>24.1</td>\n",
              "      <td>18.0</td>\n",
              "      <td>4.0</td>\n",
              "      <td>Ambler</td>\n",
              "      <td>Montgome</td>\n",
              "    </tr>\n",
              "    <tr>\n",
              "      <th>2</th>\n",
              "      <td>124186</td>\n",
              "      <td>12.4186</td>\n",
              "      <td>19.5</td>\n",
              "      <td>25.0</td>\n",
              "      <td>8.0</td>\n",
              "      <td>Aston</td>\n",
              "      <td>Delaware</td>\n",
              "    </tr>\n",
              "    <tr>\n",
              "      <th>3</th>\n",
              "      <td>110490</td>\n",
              "      <td>11.0490</td>\n",
              "      <td>49.4</td>\n",
              "      <td>25.0</td>\n",
              "      <td>2.7</td>\n",
              "      <td>Bensalem</td>\n",
              "      <td>Bucks</td>\n",
              "    </tr>\n",
              "    <tr>\n",
              "      <th>4</th>\n",
              "      <td>79124</td>\n",
              "      <td>7.9124</td>\n",
              "      <td>54.1</td>\n",
              "      <td>19.0</td>\n",
              "      <td>3.9</td>\n",
              "      <td>Bristol B.</td>\n",
              "      <td>Bucks</td>\n",
              "    </tr>\n",
              "    <tr>\n",
              "      <th>...</th>\n",
              "      <td>...</td>\n",
              "      <td>...</td>\n",
              "      <td>...</td>\n",
              "      <td>...</td>\n",
              "      <td>...</td>\n",
              "      <td>...</td>\n",
              "      <td>...</td>\n",
              "    </tr>\n",
              "    <tr>\n",
              "      <th>94</th>\n",
              "      <td>174232</td>\n",
              "      <td>17.4232</td>\n",
              "      <td>13.8</td>\n",
              "      <td>25.0</td>\n",
              "      <td>4.7</td>\n",
              "      <td>Westtown</td>\n",
              "      <td>Chester</td>\n",
              "    </tr>\n",
              "    <tr>\n",
              "      <th>95</th>\n",
              "      <td>196515</td>\n",
              "      <td>19.6515</td>\n",
              "      <td>29.9</td>\n",
              "      <td>16.0</td>\n",
              "      <td>1.8</td>\n",
              "      <td>Whitemarsh</td>\n",
              "      <td>Montgome</td>\n",
              "    </tr>\n",
              "    <tr>\n",
              "      <th>96</th>\n",
              "      <td>232714</td>\n",
              "      <td>23.2714</td>\n",
              "      <td>9.9</td>\n",
              "      <td>21.0</td>\n",
              "      <td>0.2</td>\n",
              "      <td>Willistown</td>\n",
              "      <td>Chester</td>\n",
              "    </tr>\n",
              "    <tr>\n",
              "      <th>97</th>\n",
              "      <td>245920</td>\n",
              "      <td>24.5920</td>\n",
              "      <td>22.6</td>\n",
              "      <td>10.0</td>\n",
              "      <td>0.3</td>\n",
              "      <td>Wynnewood</td>\n",
              "      <td>Montgome</td>\n",
              "    </tr>\n",
              "    <tr>\n",
              "      <th>98</th>\n",
              "      <td>130953</td>\n",
              "      <td>13.0953</td>\n",
              "      <td>13.0</td>\n",
              "      <td>24.0</td>\n",
              "      <td>5.2</td>\n",
              "      <td>Yardley</td>\n",
              "      <td>Bucks</td>\n",
              "    </tr>\n",
              "  </tbody>\n",
              "</table>\n",
              "<p>99 rows × 7 columns</p>\n",
              "</div>"
            ],
            "text/plain": [
              "    HousePrice  HsPrc ($10,000)  CrimeRate  ...  PopChg        Name    County\n",
              "0       140463          14.0463       29.7  ...    -1.0    Abington  Montgome\n",
              "1       113033          11.3033       24.1  ...     4.0      Ambler  Montgome\n",
              "2       124186          12.4186       19.5  ...     8.0       Aston  Delaware\n",
              "3       110490          11.0490       49.4  ...     2.7    Bensalem     Bucks\n",
              "4        79124           7.9124       54.1  ...     3.9  Bristol B.     Bucks\n",
              "..         ...              ...        ...  ...     ...         ...       ...\n",
              "94      174232          17.4232       13.8  ...     4.7    Westtown   Chester\n",
              "95      196515          19.6515       29.9  ...     1.8  Whitemarsh  Montgome\n",
              "96      232714          23.2714        9.9  ...     0.2  Willistown   Chester\n",
              "97      245920          24.5920       22.6  ...     0.3   Wynnewood  Montgome\n",
              "98      130953          13.0953       13.0  ...     5.2     Yardley     Bucks\n",
              "\n",
              "[99 rows x 7 columns]"
            ]
          },
          "metadata": {
            "tags": []
          },
          "execution_count": 77
        }
      ]
    },
    {
      "cell_type": "code",
      "metadata": {
        "colab": {
          "base_uri": "https://localhost:8080/",
          "height": 419
        },
        "id": "SqPiK56COXay",
        "outputId": "de364fac-17f9-415b-cee2-ff0d6b75459a"
      },
      "source": [
        "df3=df2[df2['HousePrice']<350000]\r\n",
        "df3"
      ],
      "execution_count": 78,
      "outputs": [
        {
          "output_type": "execute_result",
          "data": {
            "text/html": [
              "<div>\n",
              "<style scoped>\n",
              "    .dataframe tbody tr th:only-of-type {\n",
              "        vertical-align: middle;\n",
              "    }\n",
              "\n",
              "    .dataframe tbody tr th {\n",
              "        vertical-align: top;\n",
              "    }\n",
              "\n",
              "    .dataframe thead th {\n",
              "        text-align: right;\n",
              "    }\n",
              "</style>\n",
              "<table border=\"1\" class=\"dataframe\">\n",
              "  <thead>\n",
              "    <tr style=\"text-align: right;\">\n",
              "      <th></th>\n",
              "      <th>HousePrice</th>\n",
              "      <th>HsPrc ($10,000)</th>\n",
              "      <th>CrimeRate</th>\n",
              "      <th>MilesPhila</th>\n",
              "      <th>PopChg</th>\n",
              "      <th>Name</th>\n",
              "      <th>County</th>\n",
              "    </tr>\n",
              "  </thead>\n",
              "  <tbody>\n",
              "    <tr>\n",
              "      <th>0</th>\n",
              "      <td>140463</td>\n",
              "      <td>14.0463</td>\n",
              "      <td>29.7</td>\n",
              "      <td>10.0</td>\n",
              "      <td>-1.0</td>\n",
              "      <td>Abington</td>\n",
              "      <td>Montgome</td>\n",
              "    </tr>\n",
              "    <tr>\n",
              "      <th>1</th>\n",
              "      <td>113033</td>\n",
              "      <td>11.3033</td>\n",
              "      <td>24.1</td>\n",
              "      <td>18.0</td>\n",
              "      <td>4.0</td>\n",
              "      <td>Ambler</td>\n",
              "      <td>Montgome</td>\n",
              "    </tr>\n",
              "    <tr>\n",
              "      <th>2</th>\n",
              "      <td>124186</td>\n",
              "      <td>12.4186</td>\n",
              "      <td>19.5</td>\n",
              "      <td>25.0</td>\n",
              "      <td>8.0</td>\n",
              "      <td>Aston</td>\n",
              "      <td>Delaware</td>\n",
              "    </tr>\n",
              "    <tr>\n",
              "      <th>3</th>\n",
              "      <td>110490</td>\n",
              "      <td>11.0490</td>\n",
              "      <td>49.4</td>\n",
              "      <td>25.0</td>\n",
              "      <td>2.7</td>\n",
              "      <td>Bensalem</td>\n",
              "      <td>Bucks</td>\n",
              "    </tr>\n",
              "    <tr>\n",
              "      <th>4</th>\n",
              "      <td>79124</td>\n",
              "      <td>7.9124</td>\n",
              "      <td>54.1</td>\n",
              "      <td>19.0</td>\n",
              "      <td>3.9</td>\n",
              "      <td>Bristol B.</td>\n",
              "      <td>Bucks</td>\n",
              "    </tr>\n",
              "    <tr>\n",
              "      <th>...</th>\n",
              "      <td>...</td>\n",
              "      <td>...</td>\n",
              "      <td>...</td>\n",
              "      <td>...</td>\n",
              "      <td>...</td>\n",
              "      <td>...</td>\n",
              "      <td>...</td>\n",
              "    </tr>\n",
              "    <tr>\n",
              "      <th>94</th>\n",
              "      <td>174232</td>\n",
              "      <td>17.4232</td>\n",
              "      <td>13.8</td>\n",
              "      <td>25.0</td>\n",
              "      <td>4.7</td>\n",
              "      <td>Westtown</td>\n",
              "      <td>Chester</td>\n",
              "    </tr>\n",
              "    <tr>\n",
              "      <th>95</th>\n",
              "      <td>196515</td>\n",
              "      <td>19.6515</td>\n",
              "      <td>29.9</td>\n",
              "      <td>16.0</td>\n",
              "      <td>1.8</td>\n",
              "      <td>Whitemarsh</td>\n",
              "      <td>Montgome</td>\n",
              "    </tr>\n",
              "    <tr>\n",
              "      <th>96</th>\n",
              "      <td>232714</td>\n",
              "      <td>23.2714</td>\n",
              "      <td>9.9</td>\n",
              "      <td>21.0</td>\n",
              "      <td>0.2</td>\n",
              "      <td>Willistown</td>\n",
              "      <td>Chester</td>\n",
              "    </tr>\n",
              "    <tr>\n",
              "      <th>97</th>\n",
              "      <td>245920</td>\n",
              "      <td>24.5920</td>\n",
              "      <td>22.6</td>\n",
              "      <td>10.0</td>\n",
              "      <td>0.3</td>\n",
              "      <td>Wynnewood</td>\n",
              "      <td>Montgome</td>\n",
              "    </tr>\n",
              "    <tr>\n",
              "      <th>98</th>\n",
              "      <td>130953</td>\n",
              "      <td>13.0953</td>\n",
              "      <td>13.0</td>\n",
              "      <td>24.0</td>\n",
              "      <td>5.2</td>\n",
              "      <td>Yardley</td>\n",
              "      <td>Bucks</td>\n",
              "    </tr>\n",
              "  </tbody>\n",
              "</table>\n",
              "<p>93 rows × 7 columns</p>\n",
              "</div>"
            ],
            "text/plain": [
              "    HousePrice  HsPrc ($10,000)  CrimeRate  ...  PopChg        Name    County\n",
              "0       140463          14.0463       29.7  ...    -1.0    Abington  Montgome\n",
              "1       113033          11.3033       24.1  ...     4.0      Ambler  Montgome\n",
              "2       124186          12.4186       19.5  ...     8.0       Aston  Delaware\n",
              "3       110490          11.0490       49.4  ...     2.7    Bensalem     Bucks\n",
              "4        79124           7.9124       54.1  ...     3.9  Bristol B.     Bucks\n",
              "..         ...              ...        ...  ...     ...         ...       ...\n",
              "94      174232          17.4232       13.8  ...     4.7    Westtown   Chester\n",
              "95      196515          19.6515       29.9  ...     1.8  Whitemarsh  Montgome\n",
              "96      232714          23.2714        9.9  ...     0.2  Willistown   Chester\n",
              "97      245920          24.5920       22.6  ...     0.3   Wynnewood  Montgome\n",
              "98      130953          13.0953       13.0  ...     5.2     Yardley     Bucks\n",
              "\n",
              "[93 rows x 7 columns]"
            ]
          },
          "metadata": {
            "tags": []
          },
          "execution_count": 78
        }
      ]
    },
    {
      "cell_type": "code",
      "metadata": {
        "colab": {
          "base_uri": "https://localhost:8080/"
        },
        "id": "TyzxbeDdUzPu",
        "outputId": "6c3682a4-bea9-416e-c6fc-3bd1ad8c105c"
      },
      "source": [
        "len(df3)"
      ],
      "execution_count": 79,
      "outputs": [
        {
          "output_type": "execute_result",
          "data": {
            "text/plain": [
              "93"
            ]
          },
          "metadata": {
            "tags": []
          },
          "execution_count": 79
        }
      ]
    },
    {
      "cell_type": "code",
      "metadata": {
        "id": "IZ1IMv_dOXPu"
      },
      "source": [
        "X3=df3['CrimeRate']\r\n",
        "Y3=df3['HousePrice']\r\n",
        "X3=np.array(X3).reshape(-1,1)\r\n",
        "Y3=np.array(Y3).reshape(-1,1)\r\n",
        "model_withNoHighEnd=LinearRegression().fit(X3,Y3)"
      ],
      "execution_count": 80,
      "outputs": []
    },
    {
      "cell_type": "code",
      "metadata": {
        "colab": {
          "base_uri": "https://localhost:8080/"
        },
        "id": "PvuFnynnOW-O",
        "outputId": "77d28639-847f-4fcc-b839-5f8c22d75306"
      },
      "source": [
        "print(model.intercept_)\r\n",
        "print(model.coef_)\r\n",
        "print(model_withNoCC.intercept_)\r\n",
        "print(model_withNoCC.coef_)\r\n",
        "print(model_withNoHighEnd.intercept_)\r\n",
        "print(model_withNoHighEnd.coef_)\r\n"
      ],
      "execution_count": 81,
      "outputs": [
        {
          "output_type": "stream",
          "text": [
            "[176629.40810695]\n",
            "[[-576.90812768]]\n",
            "[225233.551839]\n",
            "[[-2288.68942995]]\n",
            "[199098.8526698]\n",
            "[[-1838.56264859]]\n"
          ],
          "name": "stdout"
        }
      ]
    },
    {
      "cell_type": "code",
      "metadata": {
        "colab": {
          "base_uri": "https://localhost:8080/",
          "height": 316
        },
        "id": "uxPgcVyCo3Er",
        "outputId": "fc7319d7-8374-4643-9ca8-1808bf43e17e"
      },
      "source": [
        "plt.plot(X3, Y3, '.',\r\n",
        "         X3, model_withNoCC.predict(X3), '-',\r\n",
        "         X3, model_withNoHighEnd.predict(X3), '-')  "
      ],
      "execution_count": 82,
      "outputs": [
        {
          "output_type": "execute_result",
          "data": {
            "text/plain": [
              "[<matplotlib.lines.Line2D at 0x7fb4b5c10e80>,\n",
              " <matplotlib.lines.Line2D at 0x7fb4b5c10f60>,\n",
              " <matplotlib.lines.Line2D at 0x7fb4b5c1d128>]"
            ]
          },
          "metadata": {
            "tags": []
          },
          "execution_count": 82
        },
        {
          "output_type": "display_data",
          "data": {
            "image/png": "[encoded data removed]",
            "text/plain": [
              "<Figure size 432x288 with 1 Axes>"
            ]
          },
          "metadata": {
            "tags": [],
            "needs_background": "light"
          }
        }
      ]
    },
    {
      "cell_type": "markdown",
      "metadata": {
        "id": "4aZwCwOYou9c"
      },
      "source": [
        "Above: We see that removing the outlying high-value neighborhoods has some effect on the fit, but not nearly as much as our high-leverage Center City datapoint."
      ]
    }
  ]
}